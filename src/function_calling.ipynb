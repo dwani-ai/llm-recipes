{
 "cells": [
  {
   "cell_type": "code",
   "execution_count": null,
   "id": "c4edea38-d677-462a-8029-365bf4e04b19",
   "metadata": {},
   "outputs": [],
   "source": [
    "!pip install pandas \"mistralai>=0.1.2\""
   ]
  },
  {
   "cell_type": "code",
   "execution_count": null,
   "id": "c810f077-26f0-41e9-aa2f-0fdc782cae1f",
   "metadata": {},
   "outputs": [],
   "source": [
    "import pandas as pd\n",
    "\n",
    "# Assuming we have the following data\n",
    "data = {\n",
    "    'transaction_id': ['T1001', 'T1002', 'T1003', 'T1004', 'T1005'],\n",
    "    'customer_id': ['C001', 'C002', 'C003', 'C002', 'C001'],\n",
    "    'payment_amount': [125.50, 89.99, 120.00, 54.30, 210.20],\n",
    "    'payment_date': ['2021-10-05', '2021-10-06', '2021-10-07', '2021-10-05', '2021-10-08'],\n",
    "    'payment_status': ['Paid', 'Unpaid', 'Paid', 'Paid', 'Pending']\n",
    "}\n",
    "\n",
    "# Create DataFrame\n",
    "df = pd.DataFrame(data)"
   ]
  },
  {
   "cell_type": "code",
   "execution_count": null,
   "id": "d2a66f7c-6baa-4eb2-8572-d9cfd89208b6",
   "metadata": {},
   "outputs": [],
   "source": [
    "def retrieve_payment_status(df: data, transaction_id: str) -> str:\n",
    "    if transaction_id in df.transaction_id.values: \n",
    "        return json.dumps({'status': df[df.transaction_id == transaction_id].payment_status.item()})\n",
    "    return json.dumps({'error': 'transaction id not found.'})\n",
    "\n",
    "def retrieve_payment_date(df: data, transaction_id: str) -> str:\n",
    "    if transaction_id in df.transaction_id.values: \n",
    "        return json.dumps({'date': df[df.transaction_id == transaction_id].payment_date.item()})\n",
    "    return json.dumps({'error': 'transaction id not found.'})"
   ]
  },
  {
   "cell_type": "code",
   "execution_count": null,
   "id": "f7b25364-b80d-4cbd-a182-45696cb914f6",
   "metadata": {},
   "outputs": [],
   "source": [
    "tools = [\n",
    "  {\n",
    "    \"type\": \"function\",\n",
    "    \"function\": {\n",
    "      \"name\": \"retrieve_payment_status\",\n",
    "      \"description\": \"Get payment status of a transaction\",\n",
    "      \"parameters\": {\n",
    "        \"type\": \"object\",\n",
    "        \"properties\": {\n",
    "          \"transaction_id\": {\n",
    "            \"type\": \"string\",\n",
    "            \"description\": \"The transaction id.\"\n",
    "          }\n",
    "        },\n",
    "        \"required\": [\"transaction_id\"]\n",
    "      }\n",
    "    }\n",
    "  },\n",
    "  {\n",
    "    \"type\": \"function\",\n",
    "    \"function\": {\n",
    "      \"name\": \"retrieve_payment_date\",\n",
    "      \"description\": \"Get payment date of a transaction\",\n",
    "      \"parameters\": {\n",
    "        \"type\": \"object\",\n",
    "        \"properties\": {\n",
    "          \"transaction_id\": {\n",
    "            \"type\": \"string\",\n",
    "            \"description\": \"The transaction id.\"\n",
    "          }\n",
    "        },\n",
    "        \"required\": [\"transaction_id\"]\n",
    "      }\n",
    "    }\n",
    "  }\n",
    "]\n"
   ]
  },
  {
   "cell_type": "code",
   "execution_count": null,
   "id": "3a115d80-b3d1-4eff-a87e-53314d85d18d",
   "metadata": {},
   "outputs": [],
   "source": [
    "import functools\n",
    "\n",
    "names_to_functions = {\n",
    "    'retrieve_payment_status': functools.partial(retrieve_payment_status, df=df),\n",
    "    'retrieve_payment_date': functools.partial(retrieve_payment_date, df=df)\n",
    "}\n"
   ]
  },
  {
   "cell_type": "code",
   "execution_count": null,
   "id": "555f7bb6-8c00-483f-b473-dba58af88962",
   "metadata": {},
   "outputs": [],
   "source": [
    "from mistralai.models.chat_completion import ChatMessage\n",
    "\n",
    "messages = [\n",
    "    ChatMessage(role=\"user\", content=\"What's the status of my transaction?\")\n",
    "]\n"
   ]
  },
  {
   "cell_type": "code",
   "execution_count": null,
   "id": "7e1a51f4-3651-48ce-aa8d-7a006ecd13dc",
   "metadata": {},
   "outputs": [],
   "source": [
    "from mistralai.client import MistralClient\n",
    "\n",
    "model = \"open-mixtral-8x22b\"\n",
    "api_key=\"xxx\"\n",
    "\n",
    "client = MistralClient(api_key=api_key)\n",
    "\n",
    "response = client.chat(\n",
    "    model=model,\n",
    "    messages=messages,\n",
    "    tools=tools,\n",
    "    tool_choice=\"auto\"\n",
    ")\n",
    "\n",
    "response"
   ]
  },
  {
   "cell_type": "code",
   "execution_count": null,
   "id": "bb203bdf-f752-48a6-a01a-f2db010596d6",
   "metadata": {},
   "outputs": [],
   "source": [
    "messages.append(ChatMessage(role=\"assistant\", content=response.choices[0].message.content))\n",
    "messages.append(ChatMessage(role=\"user\", content=\"My transaction ID is T1001.\"))"
   ]
  },
  {
   "cell_type": "code",
   "execution_count": null,
   "id": "fe959e61-cd29-4dea-ac7e-d2baf21a7601",
   "metadata": {},
   "outputs": [],
   "source": [
    "messages"
   ]
  },
  {
   "cell_type": "code",
   "execution_count": null,
   "id": "b6ca1b6a-25d3-4cde-a557-c35bb5956537",
   "metadata": {},
   "outputs": [],
   "source": [
    "response = client.chat(\n",
    "    model=model,\n",
    "    messages=messages,\n",
    "    tools=tools,\n",
    "    tool_choice=\"auto\"\n",
    ")\n",
    "\n",
    "response"
   ]
  },
  {
   "cell_type": "code",
   "execution_count": null,
   "id": "c60e09d4-7317-46f6-92de-8ed3b9cb9b07",
   "metadata": {},
   "outputs": [],
   "source": [
    "messages.append(response.choices[0].message)"
   ]
  },
  {
   "cell_type": "code",
   "execution_count": null,
   "id": "6b65eb78-4409-4da0-98db-fc2ddf536f32",
   "metadata": {},
   "outputs": [],
   "source": [
    "messages"
   ]
  },
  {
   "cell_type": "code",
   "execution_count": null,
   "id": "caae6e84-8f1b-42d1-8149-7fb8529c6b81",
   "metadata": {},
   "outputs": [],
   "source": [
    "import json\n",
    "tool_call = response.choices[0].message.tool_calls[0]\n",
    "function_name = tool_call.function.name\n",
    "function_params = json.loads(tool_call.function.arguments)\n",
    "print(\"\\nfunction_name: \", function_name, \"\\nfunction_params: \", function_params)"
   ]
  },
  {
   "cell_type": "code",
   "execution_count": null,
   "id": "d89098cc-de60-4bc2-a97c-ff4e01b7cb3d",
   "metadata": {},
   "outputs": [],
   "source": [
    "function_result = names_to_functions[function_name](**function_params)\n",
    "function_result\n"
   ]
  },
  {
   "cell_type": "code",
   "execution_count": null,
   "id": "a3bb7f2c-0fe8-47ed-a6b3-3b741d266d36",
   "metadata": {},
   "outputs": [],
   "source": [
    "messages.append(ChatMessage(role=\"tool\", name=function_name, content=function_result))"
   ]
  },
  {
   "cell_type": "code",
   "execution_count": null,
   "id": "e77d5eb0-2cc4-41bc-ae9d-0cc24fab37b6",
   "metadata": {},
   "outputs": [],
   "source": [
    "messages"
   ]
  },
  {
   "cell_type": "code",
   "execution_count": null,
   "id": "74fdc468-dd25-477e-8e61-19fd42df12b5",
   "metadata": {},
   "outputs": [],
   "source": [
    "response = client.chat(\n",
    "    model=model,\n",
    "    messages=messages\n",
    ")\n",
    "\n",
    "response.choices[0].message.content"
   ]
  },
  {
   "cell_type": "code",
   "execution_count": null,
   "id": "bb3a1073-aa99-49d5-8720-9256cf759d3f",
   "metadata": {},
   "outputs": [],
   "source": []
  }
 ],
 "metadata": {
  "kernelspec": {
   "display_name": "Python 3 (ipykernel)",
   "language": "python",
   "name": "python3"
  },
  "language_info": {
   "codemirror_mode": {
    "name": "ipython",
    "version": 3
   },
   "file_extension": ".py",
   "mimetype": "text/x-python",
   "name": "python",
   "nbconvert_exporter": "python",
   "pygments_lexer": "ipython3",
   "version": "3.12.0"
  }
 },
 "nbformat": 4,
 "nbformat_minor": 5
}
