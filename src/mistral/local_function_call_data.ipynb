{
 "cells": [
  {
   "cell_type": "code",
   "execution_count": null,
   "id": "7ca82f87-1a09-4a8b-81e8-44df6a72fd31",
   "metadata": {},
   "outputs": [],
   "source": []
  },
  {
   "cell_type": "code",
   "execution_count": 1,
   "id": "3cf038c1-648c-44d8-b89a-df08a5e1187f",
   "metadata": {},
   "outputs": [],
   "source": [
    "from mistral_common.protocol.instruct.tool_calls import Function, Tool\n",
    "\n",
    "from mistral_inference.model import Transformer\n",
    "from mistral_inference.generate import generate\n",
    "\n",
    "from mistral_common.tokens.tokenizers.mistral import MistralTokenizer\n",
    "from mistral_common.protocol.instruct.messages import UserMessage\n",
    "from mistral_common.protocol.instruct.request import ChatCompletionRequest\n",
    "\n"
   ]
  },
  {
   "cell_type": "code",
   "execution_count": null,
   "id": "444e1838-d620-4a05-a68a-554f28cf5f65",
   "metadata": {},
   "outputs": [],
   "source": [
    "tokenizer = MistralTokenizer.from_file(\"./mistral_models/7B_instruct/tokenizer.model.v3\")  # change to extracted tok>\n",
    "model = Transformer.from_folder(\"./mistral_models/7B_instruct\")  # change to extracted model dir\n"
   ]
  },
  {
   "cell_type": "code",
   "execution_count": 3,
   "id": "30f8b66a-ce58-4dd1-b9fb-40f80d9112e5",
   "metadata": {},
   "outputs": [],
   "source": [
    "completion_request = ChatCompletionRequest(\n",
    "    tools=[\n",
    "        Tool(\n",
    "            function=Function(\n",
    "                name=\"retrieve_payment_status\",\n",
    "                description=\"Get payment status of a transaction\",\n",
    "                parameters={\n",
    "                    \"type\": \"object\",\n",
    "                    \"properties\": {\n",
    "                        \"transaction_id\": {\n",
    "                        \"type\": \"string\",\n",
    "                        \"description\": \"The transaction id.\",\n",
    "                        }\n",
    "                    },\n",
    "                    \"required\": [\"transaction_id\"],\n",
    "                },\n",
    "            )\n",
    "        ),\n",
    "        Tool(\n",
    "            function=Function(\n",
    "                name=\"retrieve_payment_date\",\n",
    "                description=\"Get payment date of a transaction\",\n",
    "                parameters={\n",
    "                    \"type\": \"object\",\n",
    "                    \"properties\": {\n",
    "                        \"transaction_id\": {\n",
    "                        \"type\": \"string\",\n",
    "                        \"description\": \"The transaction id.\",\n",
    "                        }\n",
    "                    },\n",
    "                    \"required\": [\"transaction_id\"],\n",
    "                },\n",
    "            )\n",
    "        )\n",
    "    ],\n",
    "    messages=[\n",
    "        UserMessage(content=\"What's the status of my transaction T1003?\")\n",
    "        ],\n",
    ")\n"
   ]
  },
  {
   "cell_type": "code",
   "execution_count": 4,
   "id": "d6d5c1f1-0433-48cc-884e-120df75493b0",
   "metadata": {},
   "outputs": [],
   "source": [
    "tokens = tokenizer.encode_chat_completion(completion_request).tokens\n"
   ]
  },
  {
   "cell_type": "code",
   "execution_count": 5,
   "id": "5fdf68b2-a3dd-40a9-83a6-975662493901",
   "metadata": {},
   "outputs": [],
   "source": [
    "# max_tokens control the output of model, set it based on required function call.\n",
    "out_tokens, _ = generate([tokens], model, max_tokens=30, temperature=0.0, eos_id=tokenizer.instruct_tokenizer.tokenizer.eos_id)\n"
   ]
  },
  {
   "cell_type": "code",
   "execution_count": 6,
   "id": "0e4ef6c0-f6ea-4c09-8181-efb2c82f5e05",
   "metadata": {},
   "outputs": [],
   "source": [
    "result = tokenizer.instruct_tokenizer.tokenizer.decode(out_tokens[0])\n",
    "result = result.strip()"
   ]
  },
  {
   "cell_type": "code",
   "execution_count": 7,
   "id": "9b49653e-7867-42b8-92bc-73d953a497e8",
   "metadata": {},
   "outputs": [
    {
     "name": "stdout",
     "output_type": "stream",
     "text": [
      "[{\"name\": \"retrieve_payment_status\", \"arguments\": {\"transaction_id\": \"T1005\"}}]\n"
     ]
    }
   ],
   "source": [
    "print(result)"
   ]
  },
  {
   "cell_type": "code",
   "execution_count": 8,
   "id": "fc817409-8c86-4764-8ed6-12aceb02d83a",
   "metadata": {},
   "outputs": [],
   "source": [
    "import pandas as pd\n",
    "\n",
    "# Assuming we have the following data\n",
    "data = {\n",
    "    'transaction_id': ['T1001', 'T1002', 'T1003', 'T1004', 'T1005'],\n",
    "    'customer_id': ['C001', 'C002', 'C003', 'C002', 'C001'],\n",
    "    'payment_amount': [125.50, 89.99, 120.00, 54.30, 210.20],\n",
    "    'payment_date': ['2021-10-05', '2021-10-06', '2021-10-07', '2021-10-05', '2021-10-08'],\n",
    "    'payment_status': ['Paid', 'Unpaid', 'Paid', 'Paid', 'Pending']\n",
    "}\n",
    "\n",
    "# Create DataFrame\n",
    "df = pd.DataFrame(data)"
   ]
  },
  {
   "cell_type": "code",
   "execution_count": 9,
   "id": "e8d7033a-28d6-440e-b6e3-dbb847625a7f",
   "metadata": {},
   "outputs": [],
   "source": [
    "def retrieve_payment_status(df: data, transaction_id: str) -> str:\n",
    "    if transaction_id in df.transaction_id.values: \n",
    "        return json.dumps({'status': df[df.transaction_id == transaction_id].payment_status.item()})\n",
    "    return json.dumps({'error': 'transaction id not found.'})\n",
    "\n",
    "def retrieve_payment_date(df: data, transaction_id: str) -> str:\n",
    "    if transaction_id in df.transaction_id.values: \n",
    "        return json.dumps({'date': df[df.transaction_id == transaction_id].payment_date.item()})\n",
    "    return json.dumps({'error': 'transaction id not found.'})\n",
    "\n"
   ]
  },
  {
   "cell_type": "code",
   "execution_count": 10,
   "id": "382a6359-e12a-4d61-96b5-bc47ee3247fc",
   "metadata": {},
   "outputs": [],
   "source": [
    "import functools\n",
    "\n",
    "names_to_functions = {\n",
    "  'retrieve_payment_status': functools.partial(retrieve_payment_status, df=df),\n",
    "  'retrieve_payment_date': functools.partial(retrieve_payment_date, df=df)\n",
    "}\n"
   ]
  },
  {
   "cell_type": "code",
   "execution_count": 11,
   "id": "2e804ace-ab26-4a6c-b3ea-96ab330dc748",
   "metadata": {},
   "outputs": [
    {
     "name": "stdout",
     "output_type": "stream",
     "text": [
      "\n",
      "function_name:  retrieve_payment_status \n",
      "function_params:  {'transaction_id': 'T1005'}\n"
     ]
    }
   ],
   "source": [
    "import json\n",
    "tool_call = json.loads(result)\n",
    "function_name = tool_call[0][\"name\"]\n",
    "function_params = (tool_call[0][\"arguments\"]) \n",
    "print(\"\\nfunction_name: \", function_name, \"\\nfunction_params: \", function_params)"
   ]
  },
  {
   "cell_type": "code",
   "execution_count": 12,
   "id": "51f5b003-5a40-4ad6-9b99-bf161063f479",
   "metadata": {},
   "outputs": [
    {
     "data": {
      "text/plain": [
       "'{\"status\": \"Pending\"}'"
      ]
     },
     "execution_count": 12,
     "metadata": {},
     "output_type": "execute_result"
    }
   ],
   "source": [
    "function_result = names_to_functions[function_name](**function_params)\n",
    "function_result"
   ]
  },
  {
   "cell_type": "code",
   "execution_count": null,
   "id": "46dee339-121e-48d2-ad13-7a1fc2912709",
   "metadata": {},
   "outputs": [],
   "source": []
  }
 ],
 "metadata": {
  "kernelspec": {
   "display_name": "Python 3 (ipykernel)",
   "language": "python",
   "name": "python3"
  },
  "language_info": {
   "codemirror_mode": {
    "name": "ipython",
    "version": 3
   },
   "file_extension": ".py",
   "mimetype": "text/x-python",
   "name": "python",
   "nbconvert_exporter": "python",
   "pygments_lexer": "ipython3",
   "version": "3.10.12"
  }
 },
 "nbformat": 4,
 "nbformat_minor": 5
}
