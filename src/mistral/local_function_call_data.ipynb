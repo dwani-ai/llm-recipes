{
 "cells": [
  {
   "cell_type": "markdown",
   "id": "17ee4289-007b-456d-8228-2eadb81f098a",
   "metadata": {},
   "source": [
    "# Function Calling with local model using mistral-inference\n",
    "\n",
    "Function calling allows Mistral models to connect to external tools. By integrating Mistral models with external tools such as user defined functions or APIs, users can easily build applications catering to specific use cases and practical problems. In this guide, for instance, we wrote two functions for tracking payment status and payment date. We can use these two tools to provide answers for payment-related queries.\n",
    "\n",
    "At a glance, there are four steps with function calling:\n",
    "\n",
    "- User: specify tools and query\n",
    "- Model: Generate function arguments if applicable\n",
    "- User: Execute function to obtain tool results\n",
    "- Model: Generate final answer\n",
    "\n",
    "In this guide, we will walk through a simple example to demonstrate how function calling works with Mistral models in these four steps.\n",
    "\n",
    "Before we get started, let’s assume we have a dataframe consisting of payment transactions. When users ask questions about this dataframe, they can use certain tools to answer questions about this data. This is just an example to emulate an external database that the LLM cannot directly access."
   ]
  },
  {
   "cell_type": "code",
   "execution_count": null,
   "id": "7ca82f87-1a09-4a8b-81e8-44df6a72fd31",
   "metadata": {},
   "outputs": [],
   "source": [
    "!pip install pandas mistral-inference"
   ]
  },
  {
   "cell_type": "code",
   "execution_count": 8,
   "id": "fc817409-8c86-4764-8ed6-12aceb02d83a",
   "metadata": {},
   "outputs": [],
   "source": [
    "import pandas as pd\n",
    "\n",
    "# Assuming we have the following data\n",
    "data = {\n",
    "    'transaction_id': ['T1001', 'T1002', 'T1003', 'T1004', 'T1005'],\n",
    "    'customer_id': ['C001', 'C002', 'C003', 'C002', 'C001'],\n",
    "    'payment_amount': [125.50, 89.99, 120.00, 54.30, 210.20],\n",
    "    'payment_date': ['2021-10-05', '2021-10-06', '2021-10-07', '2021-10-05', '2021-10-08'],\n",
    "    'payment_status': ['Paid', 'Unpaid', 'Paid', 'Paid', 'Pending']\n",
    "}\n",
    "\n",
    "# Create DataFrame\n",
    "df = pd.DataFrame(data)"
   ]
  },
  {
   "cell_type": "markdown",
   "id": "3182bb4b-ea8e-4886-a3a5-291c9355d30e",
   "metadata": {},
   "source": [
    "## Step 1. User: specify tools and query\n",
    "\n",
    "### Tools\n",
    "\n",
    "Users can define all the necessary tools for their use cases.\n",
    "\n",
    "- In many cases, we might have multiple tools at our disposal. For example, let’s consider we have two functions as our two tools: `retrieve_payment_status` and `retrieve_payment_date` to retrieve payment status and payment date given transaction ID."
   ]
  },
  {
   "cell_type": "code",
   "execution_count": 9,
   "id": "e8d7033a-28d6-440e-b6e3-dbb847625a7f",
   "metadata": {},
   "outputs": [],
   "source": [
    "def retrieve_payment_status(df: data, transaction_id: str) -> str:\n",
    "    if transaction_id in df.transaction_id.values: \n",
    "        return json.dumps({'status': df[df.transaction_id == transaction_id].payment_status.item()})\n",
    "    return json.dumps({'error': 'transaction id not found.'})\n",
    "\n",
    "def retrieve_payment_date(df: data, transaction_id: str) -> str:\n",
    "    if transaction_id in df.transaction_id.values: \n",
    "        return json.dumps({'date': df[df.transaction_id == transaction_id].payment_date.item()})\n",
    "    return json.dumps({'error': 'transaction id not found.'})\n",
    "\n"
   ]
  },
  {
   "cell_type": "markdown",
   "id": "3986fc53-ae54-49d7-896c-d30254588bb1",
   "metadata": {},
   "source": [
    "- In order for Mistral models to understand the functions, we need to outline the function specifications with a JSON schema. Specifically, we need to describe the type, function name, function description, function parameters, and the required parameter for the function. Since we have two functions here, let’s list two function specifications in a list."
   ]
  },
  {
   "cell_type": "code",
   "execution_count": 1,
   "id": "3cf038c1-648c-44d8-b89a-df08a5e1187f",
   "metadata": {},
   "outputs": [],
   "source": [
    "from mistral_common.protocol.instruct.tool_calls import Function, Tool\n",
    "\n",
    "tools=[\n",
    "        Tool(\n",
    "            function=Function(\n",
    "                name=\"retrieve_payment_status\",\n",
    "                description=\"Get payment status of a transaction\",\n",
    "                parameters={\n",
    "                    \"type\": \"object\",\n",
    "                    \"properties\": {\n",
    "                        \"transaction_id\": {\n",
    "                        \"type\": \"string\",\n",
    "                        \"description\": \"The transaction id.\",\n",
    "                        }\n",
    "                    },\n",
    "                    \"required\": [\"transaction_id\"],\n",
    "                },\n",
    "            )\n",
    "        ),\n",
    "        Tool(\n",
    "            function=Function(\n",
    "                name=\"retrieve_payment_date\",\n",
    "                description=\"Get payment date of a transaction\",\n",
    "                parameters={\n",
    "                    \"type\": \"object\",\n",
    "                    \"properties\": {\n",
    "                        \"transaction_id\": {\n",
    "                        \"type\": \"string\",\n",
    "                        \"description\": \"The transaction id.\",\n",
    "                        }\n",
    "                    },\n",
    "                    \"required\": [\"transaction_id\"],\n",
    "                },\n",
    "            )\n",
    "        )\n",
    "    ]\n",
    "\n"
   ]
  },
  {
   "cell_type": "markdown",
   "id": "8e0039fa-d43e-472c-8a1c-7bc12e6aaa0a",
   "metadata": {},
   "source": [
    "- Then we organize the two functions into a dictionary where keys represent the function name, and values are the function with the df defined. This allows us to call each function based on its function name."
   ]
  },
  {
   "cell_type": "code",
   "execution_count": 10,
   "id": "382a6359-e12a-4d61-96b5-bc47ee3247fc",
   "metadata": {},
   "outputs": [],
   "source": [
    "import functools\n",
    "\n",
    "names_to_functions = {\n",
    "  'retrieve_payment_status': functools.partial(retrieve_payment_status, df=df),\n",
    "  'retrieve_payment_date': functools.partial(retrieve_payment_date, df=df)\n",
    "}\n"
   ]
  },
  {
   "cell_type": "markdown",
   "id": "5bfa3bbc-ce65-43a0-81ce-0c05836af961",
   "metadata": {},
   "source": [
    "### User query\n",
    "\n",
    "Suppose a user asks the following question: “What’s the status of my transaction?” A standalone LLM would not be able to answer this question, as it needs to query the business logic backend to access the necessary data. But what if we have an exact tool we can use to answer this question? We could potentially provide an answer!"
   ]
  },
  {
   "cell_type": "code",
   "execution_count": null,
   "id": "789c983a-148e-4ff3-aee7-68a76af6d2a0",
   "metadata": {},
   "outputs": [],
   "source": [
    "from mistral_common.protocol.instruct.messages import UserMessage\n",
    "\n",
    "messages=[UserMessage(content=\"What's the status of my transaction T1003?\")\n",
    "        ]"
   ]
  },
  {
   "cell_type": "markdown",
   "id": "439124dd-ea61-4bba-894d-3d9214af7d0c",
   "metadata": {},
   "source": [
    "## Step 2. Model: Generate function arguments \n",
    "\n",
    "How do Mistral models know about these functions and know which function to use? We provide both the user query and the tools specifications to Mistral models. The goal in this step is not for the Mistral model to run the function directly. It’s to 1) determine the appropriate function to use , 2) identify if there is any essential information missing for a function, and 3) generate necessary arguments for the chosen function."
   ]
  },
  {
   "cell_type": "code",
   "execution_count": null,
   "id": "4a205e11-f156-41c8-acb5-cba334b68f1d",
   "metadata": {},
   "outputs": [],
   "source": [
    "from mistral_inference.model import Transformer\n",
    "from mistral_inference.generate import generate\n",
    "\n",
    "from mistral_common.tokens.tokenizers.mistral import MistralTokenizer\n",
    "\n",
    "from mistral_common.protocol.instruct.request import ChatCompletionRequest"
   ]
  },
  {
   "cell_type": "markdown",
   "id": "450403af-e9fe-4414-b9b7-12865fe5579d",
   "metadata": {},
   "source": [
    "- We specify the location to load the mistral model and tokenizer.  These models are downloaded from [mistral-inference](https://github.com/mistralai/mistral-inference) repo. We have downloaded the mistral 7BInstructv3 model"
   ]
  },
  {
   "cell_type": "code",
   "execution_count": 2,
   "id": "444e1838-d620-4a05-a68a-554f28cf5f65",
   "metadata": {},
   "outputs": [],
   "source": [
    "tokenizer = MistralTokenizer.from_file(\"./mistral_models/7B_instruct/tokenizer.model.v3\")  # change to extracted tok>\n",
    "model = Transformer.from_folder(\"./mistral_models/7B_instruct\")  # change to extracted model dir"
   ]
  },
  {
   "cell_type": "code",
   "execution_count": 3,
   "id": "30f8b66a-ce58-4dd1-b9fb-40f80d9112e5",
   "metadata": {},
   "outputs": [],
   "source": [
    "completion_request = ChatCompletionRequest(tools, messages,)\n"
   ]
  },
  {
   "cell_type": "code",
   "execution_count": 4,
   "id": "d6d5c1f1-0433-48cc-884e-120df75493b0",
   "metadata": {},
   "outputs": [],
   "source": [
    "tokens = tokenizer.encode_chat_completion(completion_request).tokens\n"
   ]
  },
  {
   "cell_type": "markdown",
   "id": "6cf881d2-89e9-442d-a48a-aa4800b7b179",
   "metadata": {},
   "source": [
    "max_tokens control the output of model as tokens, set it based on required function call."
   ]
  },
  {
   "cell_type": "code",
   "execution_count": 5,
   "id": "5fdf68b2-a3dd-40a9-83a6-975662493901",
   "metadata": {},
   "outputs": [],
   "source": [
    "out_tokens, _ = generate([tokens], model, max_tokens=30, temperature=0.0, eos_id=tokenizer.instruct_tokenizer.tokenizer.eos_id)"
   ]
  },
  {
   "cell_type": "code",
   "execution_count": 6,
   "id": "0e4ef6c0-f6ea-4c09-8181-efb2c82f5e05",
   "metadata": {},
   "outputs": [],
   "source": [
    "result = tokenizer.instruct_tokenizer.tokenizer.decode(out_tokens[0])\n",
    "#remove any blank space from token output\n",
    "result = result.strip()\n",
    "result"
   ]
  },
  {
   "cell_type": "markdown",
   "id": "a3e72294-eb42-4818-9d67-c897b26ec0ab",
   "metadata": {},
   "source": [
    "## Step 3. User: Execute function to obtain tool results\n",
    "\n",
    "How do we execute the function? Currently, it is the user’s responsibility to execute these functions and the function execution lies on the user side. In the future, we may introduce some helpful functions that can be executed server-side.\n",
    "\n",
    "Let’s extract some useful function information from model response including function_name and function_params. It’s clear here that our Mistral model has chosen to use the function `retrieve_payment_status` with the parameter `transaction_id` set to T1001."
   ]
  },
  {
   "cell_type": "code",
   "execution_count": 11,
   "id": "2e804ace-ab26-4a6c-b3ea-96ab330dc748",
   "metadata": {},
   "outputs": [
    {
     "name": "stdout",
     "output_type": "stream",
     "text": [
      "\n",
      "function_name:  retrieve_payment_status \n",
      "function_params:  {'transaction_id': 'T1003'}\n"
     ]
    }
   ],
   "source": [
    "import json\n",
    "tool_call = json.loads(result)\n",
    "function_name = tool_call[0][\"name\"]\n",
    "function_params = (tool_call[0][\"arguments\"]) \n",
    "print(\"\\nfunction_name: \", function_name, \"\\nfunction_params: \", function_params)"
   ]
  },
  {
   "cell_type": "code",
   "execution_count": 12,
   "id": "51f5b003-5a40-4ad6-9b99-bf161063f479",
   "metadata": {},
   "outputs": [
    {
     "data": {
      "text/plain": [
       "'{\"status\": \"Paid\"}'"
      ]
     },
     "execution_count": 12,
     "metadata": {},
     "output_type": "execute_result"
    }
   ],
   "source": [
    "function_result = names_to_functions[function_name](**function_params)\n",
    "function_result"
   ]
  },
  {
   "cell_type": "code",
   "execution_count": null,
   "id": "46dee339-121e-48d2-ad13-7a1fc2912709",
   "metadata": {},
   "outputs": [],
   "source": []
  }
 ],
 "metadata": {
  "kernelspec": {
   "display_name": "Python 3 (ipykernel)",
   "language": "python",
   "name": "python3"
  },
  "language_info": {
   "codemirror_mode": {
    "name": "ipython",
    "version": 3
   },
   "file_extension": ".py",
   "mimetype": "text/x-python",
   "name": "python",
   "nbconvert_exporter": "python",
   "pygments_lexer": "ipython3",
   "version": "3.10.12"
  }
 },
 "nbformat": 4,
 "nbformat_minor": 5
}
