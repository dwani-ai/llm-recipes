{
 "cells": [
  {
   "cell_type": "code",
   "execution_count": 1,
   "id": "02413611-17fe-4243-97a2-14ac3e01bd45",
   "metadata": {},
   "outputs": [
    {
     "name": "stdout",
     "output_type": "stream",
     "text": [
      "Requirement already satisfied: ollama in /home/sachin/code/llm-recipes/venv/lib/python3.10/site-packages (0.2.0)\n",
      "Requirement already satisfied: httpx<0.28.0,>=0.27.0 in /home/sachin/code/llm-recipes/venv/lib/python3.10/site-packages (from ollama) (0.27.0)\n",
      "Requirement already satisfied: certifi in /home/sachin/code/llm-recipes/venv/lib/python3.10/site-packages (from httpx<0.28.0,>=0.27.0->ollama) (2024.2.2)\n",
      "Requirement already satisfied: idna in /home/sachin/code/llm-recipes/venv/lib/python3.10/site-packages (from httpx<0.28.0,>=0.27.0->ollama) (3.7)\n",
      "Requirement already satisfied: httpcore==1.* in /home/sachin/code/llm-recipes/venv/lib/python3.10/site-packages (from httpx<0.28.0,>=0.27.0->ollama) (1.0.5)\n",
      "Requirement already satisfied: sniffio in /home/sachin/code/llm-recipes/venv/lib/python3.10/site-packages (from httpx<0.28.0,>=0.27.0->ollama) (1.3.1)\n",
      "Requirement already satisfied: anyio in /home/sachin/code/llm-recipes/venv/lib/python3.10/site-packages (from httpx<0.28.0,>=0.27.0->ollama) (4.3.0)\n",
      "Requirement already satisfied: h11<0.15,>=0.13 in /home/sachin/code/llm-recipes/venv/lib/python3.10/site-packages (from httpcore==1.*->httpx<0.28.0,>=0.27.0->ollama) (0.14.0)\n",
      "Requirement already satisfied: typing-extensions>=4.1 in /home/sachin/code/llm-recipes/venv/lib/python3.10/site-packages (from anyio->httpx<0.28.0,>=0.27.0->ollama) (4.11.0)\n",
      "Requirement already satisfied: exceptiongroup>=1.0.2 in /home/sachin/code/llm-recipes/venv/lib/python3.10/site-packages (from anyio->httpx<0.28.0,>=0.27.0->ollama) (1.2.1)\n"
     ]
    }
   ],
   "source": [
    "!pip install ollama"
   ]
  },
  {
   "cell_type": "code",
   "execution_count": 2,
   "id": "4950dee7-2bd2-4997-8018-1179882f4d7f",
   "metadata": {},
   "outputs": [
    {
     "name": "stdout",
     "output_type": "stream",
     "text": [
      " The sky appears blue due to a process called Rayleigh scattering. As sunlight travels from the sun to Earth, it consists of different wavelengths or colors of light. These colors are red (longest wavelength), orange, yellow, green, blue, indigo, and violet (shortest wavelength).\n",
      "\n",
      "When sunlight reaches the Earth's atmosphere, it meets molecules and tiny particles suspended in the air, such as nitrogen and oxygen. These molecules scatter short-wavelength light (blue and violet) more than they do longer wavelengths (red, orange, yellow, indigo, and green). However, we see the sky as blue rather than violet because our eyes are more sensitive to blue light and because sunlight reaches us more from the blue part of the spectrum rather than violet. The blue light scatters in all directions, filling up the sky with a blue hue.\n",
      "\n",
      "Additionally, some of the violet light gets absorbed by the ozone layer, further reducing the amount of violet light that reaches our eyes and making the sky appear more blue than violet. This phenomenon is called the \"blue sky effect.\"\n",
      "\n",
      "At sunrise and sunset, the angle at which sunlight enters the atmosphere allows for longer wavelengths of red and orange to be scattered less, so we see these colors in the sky during those times.\n"
     ]
    }
   ],
   "source": [
    "import ollama\n",
    "response = ollama.chat(model='mistral:7b', messages=[\n",
    "  {\n",
    "    'role': 'user',\n",
    "    'content': 'Why is the sky blue?',\n",
    "  },\n",
    "])\n",
    "print(response['message']['content'])"
   ]
  },
  {
   "cell_type": "code",
   "execution_count": 3,
   "id": "6d07ca29-a0d7-41bd-b33c-f2ecb6cae631",
   "metadata": {},
   "outputs": [
    {
     "data": {
      "text/plain": [
       "{'model': 'mistral:7b',\n",
       " 'created_at': '2024-05-23T21:35:31.43687004Z',\n",
       " 'response': ' To find out, I need to call the `get_current_weather` function with the required parameters:\\n\\n[TOOL_CALLS] [{\"name\": \"get_current_weather\", \"arguments\": {\"location\": \"San Francisco\", \"format\": \"celsius\"}}]',\n",
       " 'done': True,\n",
       " 'done_reason': 'stop',\n",
       " 'total_duration': 18826163004,\n",
       " 'load_duration': 1410164,\n",
       " 'prompt_eval_count': 136,\n",
       " 'prompt_eval_duration': 9359333000,\n",
       " 'eval_count': 59,\n",
       " 'eval_duration': 9423695000}"
      ]
     },
     "execution_count": 3,
     "metadata": {},
     "output_type": "execute_result"
    }
   ],
   "source": [
    "prompt=\"[AVAILABLE_TOOLS] [{\\\"type\\\": \\\"function\\\", \\\"function\\\": {\\\"name\\\": \\\"get_current_weather\\\", \\\"description\\\": \\\"Get the current weather\\\", \\\"parameters\\\": {\\\"type\\\": \\\"object\\\", \\\"properties\\\": {\\\"location\\\": {\\\"type\\\": \\\"string\\\", \\\"description\\\": \\\"The city and state, e.g. San Francisco, CA\\\"}, \\\"format\\\": {\\\"type\\\": \\\"string\\\", \\\"enum\\\": [\\\"celsius\\\", \\\"fahrenheit\\\"], \\\"description\\\": \\\"The temperature unit to use. Infer this from the users location.\\\"}}, \\\"required\\\": [\\\"location\\\", \\\"format\\\"]}}}][/AVAILABLE_TOOLS] [INST] What is the weather like today in San Francisco [/INST]\"\n",
    "ollama.generate(model='mistral:7b', prompt=prompt, raw=True,stream=False)"
   ]
  },
  {
   "cell_type": "code",
   "execution_count": null,
   "id": "66edd64b-be02-4815-8b7f-6194cbdceace",
   "metadata": {},
   "outputs": [],
   "source": [
    "!pip install pandas"
   ]
  },
  {
   "cell_type": "code",
   "execution_count": null,
   "id": "e4b12c88-73be-4902-9475-8b7f54997d97",
   "metadata": {},
   "outputs": [],
   "source": [
    "import pandas as pd\n",
    "\n",
    "# Assuming we have the following data\n",
    "data = {\n",
    "    'transaction_id': ['T1001', 'T1002', 'T1003', 'T1004', 'T1005'],\n",
    "    'customer_id': ['C001', 'C002', 'C003', 'C002', 'C001'],\n",
    "    'payment_amount': [125.50, 89.99, 120.00, 54.30, 210.20],\n",
    "    'payment_date': ['2021-10-05', '2021-10-06', '2021-10-07', '2021-10-05', '2021-10-08'],\n",
    "    'payment_status': ['Paid', 'Unpaid', 'Paid', 'Paid', 'Pending']\n",
    "}\n",
    "\n",
    "# Create DataFrame\n",
    "df = pd.DataFrame(data)"
   ]
  },
  {
   "cell_type": "code",
   "execution_count": null,
   "id": "070c0b61-3ea5-455b-95f7-78494db8b4f6",
   "metadata": {},
   "outputs": [],
   "source": [
    "def retrieve_payment_status(df: data, transaction_id: str) -> str:\n",
    "    if transaction_id in df.transaction_id.values: \n",
    "        return json.dumps({'status': df[df.transaction_id == transaction_id].payment_status.item()})\n",
    "    return json.dumps({'error': 'transaction id not found.'})\n",
    "\n",
    "def retrieve_payment_date(df: data, transaction_id: str) -> str:\n",
    "    if transaction_id in df.transaction_id.values: \n",
    "        return json.dumps({'date': df[df.transaction_id == transaction_id].payment_date.item()})\n",
    "    return json.dumps({'error': 'transaction id not found.'})"
   ]
  },
  {
   "cell_type": "code",
   "execution_count": null,
   "id": "b1acabf4-c80a-425d-b228-a85e1ec08920",
   "metadata": {},
   "outputs": [],
   "source": [
    "tools = [\n",
    "    {\n",
    "        \"type\": \"function\",\n",
    "        \"function\": {\n",
    "            \"name\": \"retrieve_payment_status\",\n",
    "            \"description\": \"Get payment status of a transaction\",\n",
    "            \"parameters\": {\n",
    "                \"type\": \"object\",\n",
    "                \"properties\": {\n",
    "                    \"transaction_id\": {\n",
    "                        \"type\": \"string\",\n",
    "                        \"description\": \"The transaction id.\",\n",
    "                    }\n",
    "                },\n",
    "                \"required\": [\"transaction_id\"],\n",
    "            },\n",
    "        },\n",
    "    },\n",
    "    {\n",
    "        \"type\": \"function\",\n",
    "        \"function\": {\n",
    "            \"name\": \"retrieve_payment_date\",\n",
    "            \"description\": \"Get payment date of a transaction\",\n",
    "            \"parameters\": {\n",
    "                \"type\": \"object\",\n",
    "                \"properties\": {\n",
    "                    \"transaction_id\": {\n",
    "                        \"type\": \"string\",\n",
    "                        \"description\": \"The transaction id.\",\n",
    "                    }\n",
    "                },\n",
    "                \"required\": [\"transaction_id\"],\n",
    "            },\n",
    "        },\n",
    "    }\n",
    "]"
   ]
  },
  {
   "cell_type": "code",
   "execution_count": null,
   "id": "d067b520-1b4d-441f-83c6-aebd2eeb1177",
   "metadata": {},
   "outputs": [],
   "source": [
    "import functools\n",
    "\n",
    "names_to_functions = {\n",
    "  'retrieve_payment_status': functools.partial(retrieve_payment_status, df=df),\n",
    "  'retrieve_payment_date': functools.partial(retrieve_payment_date, df=df)\n",
    "}"
   ]
  },
  {
   "cell_type": "code",
   "execution_count": null,
   "id": "5616f8d3-4aa0-43d3-8cd5-0cf307849492",
   "metadata": {},
   "outputs": [],
   "source": [
    "messages=[\n",
    "  {\n",
    "    'role': 'user',\n",
    "    'content': \"What's the status of my transaction T1001?\",\n",
    "  },\n",
    "]"
   ]
  },
  {
   "cell_type": "code",
   "execution_count": null,
   "id": "d65275e3-43b9-4d8c-b5a5-363ba39ef404",
   "metadata": {},
   "outputs": [],
   "source": [
    "response = ollama.chat(model='mistral:7b', messages=messages)\n"
   ]
  },
  {
   "cell_type": "code",
   "execution_count": null,
   "id": "8635de99-d44d-43f9-9dc6-1aec7d4ab922",
   "metadata": {},
   "outputs": [],
   "source": [
    "response['model']"
   ]
  },
  {
   "cell_type": "code",
   "execution_count": null,
   "id": "dc9917cc-8039-492f-b8c1-8f341fa654a2",
   "metadata": {},
   "outputs": [],
   "source": [
    "messages.append({'role':\"assistant\", 'content':response['message']['content']})\n",
    "messages.append({'role':\"user\", 'content':\"My transaction ID is T1001.\"})"
   ]
  },
  {
   "cell_type": "code",
   "execution_count": null,
   "id": "1f415f99-4b5a-4be2-9eb8-09abb69f0402",
   "metadata": {},
   "outputs": [],
   "source": []
  }
 ],
 "metadata": {
  "kernelspec": {
   "display_name": "Python 3 (ipykernel)",
   "language": "python",
   "name": "python3"
  },
  "language_info": {
   "codemirror_mode": {
    "name": "ipython",
    "version": 3
   },
   "file_extension": ".py",
   "mimetype": "text/x-python",
   "name": "python",
   "nbconvert_exporter": "python",
   "pygments_lexer": "ipython3",
   "version": "3.10.12"
  }
 },
 "nbformat": 4,
 "nbformat_minor": 5
}
