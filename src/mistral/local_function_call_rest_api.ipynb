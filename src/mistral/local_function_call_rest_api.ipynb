{
 "cells": [
  {
   "cell_type": "markdown",
   "id": "17ee4289-007b-456d-8228-2eadb81f098a",
   "metadata": {},
   "source": [
    "# Function Calling Rest API with local model using mistral-inference\n",
    "\n",
    "Function calling allows Mistral models to connect to external tools. By integrating Mistral models with external tools such as user defined functions or APIs, users can easily build applications catering to specific use cases and practical problems. In this guide, for instance, we wrote two functions for tracking a Pet Store's Pets and User info. We can use these two tools to provide answers for pet-related queries.\n",
    "\n",
    "At a glance, there are four steps with function calling:\n",
    "\n",
    "- User: specify tools and query\n",
    "- Model: Generate function arguments if applicable\n",
    "- User: Execute function to obtain tool results\n",
    "- Model: Generate final answer\n",
    "\n",
    "In this guide, we will walk through a simple example to demonstrate how function calling works with Mistral models in these four steps.\n",
    "\n",
    "Before we get started, let’s assume we have an OpenAPI spec end-points consisting of Pet store information. When users ask questions about this API, they can use certain tools to answer questions about this data. This is just an example to emulate an external database via API that the LLM cannot directly access."
   ]
  },
  {
   "cell_type": "code",
   "execution_count": null,
   "id": "7ca82f87-1a09-4a8b-81e8-44df6a72fd31",
   "metadata": {},
   "outputs": [],
   "source": [
    "!pip install pandas mistral-inference"
   ]
  },
  {
   "cell_type": "markdown",
   "id": "fee921ff-ca06-4a16-a6d9-6f71a7987cea",
   "metadata": {},
   "source": [
    "Setup functions to make REST API call. We take example of pet store from [Swagger Editor](https://editor.swagger.io/)  \n",
    "We download the openapi.json specification."
   ]
  },
  {
   "cell_type": "markdown",
   "id": "7646c097-5ba4-4ccc-b098-8550c6d55e45",
   "metadata": {},
   "source": [
    "Example curl query to get information of a Pet by PetID\n",
    "\n",
    "`\n",
    "curl -X 'GET' \\\n",
    "  'https://petstore3.swagger.io/api/v3/pet/1' \\\n",
    "  -H 'accept: application/json'\n",
    "`\n",
    "\n",
    "Example curl query to get information of a User by username\n",
    "`\n",
    "curl -X 'GET' \\\n",
    "  'https://petstore3.swagger.io/api/v3/user/user1' \\\n",
    "  -H 'accept: application/json'\n",
    "`  "
   ]
  },
  {
   "cell_type": "markdown",
   "id": "3182bb4b-ea8e-4886-a3a5-291c9355d30e",
   "metadata": {},
   "source": [
    "# Function Calling for REST API\n",
    "\n",
    "## Step 1. User: specify tools and query\n",
    "\n",
    "### Tools\n",
    "\n",
    "Users can define all the necessary tools for their use cases.\n",
    "\n",
    "- In many cases, we might have multiple tools at our disposal. For example, let’s consider we have two functions as our two tools: `retrieve_pet_info` and `retreive_user_info` to retrieve pet and user info given `petID` and `username`."
   ]
  },
  {
   "cell_type": "code",
   "execution_count": 1,
   "id": "e8d7033a-28d6-440e-b6e3-dbb847625a7f",
   "metadata": {},
   "outputs": [],
   "source": [
    "import requests\n",
    "def retrieve_pet_info(petId: int) -> str:\n",
    "    try:\n",
    "        method = 'GET'\n",
    "        headers=None\n",
    "        data=None\n",
    "        url =  'https://petstore3.swagger.io/api/v3/pet/' + str(petId)\n",
    "        response = requests.request(method, url, headers=headers, data=data)\n",
    "        # Raise an exception if the response was unsuccessful\n",
    "        response.raise_for_status()\n",
    "        #response = make_api_call('GET', url + str(petId))\n",
    "        if response.ok :\n",
    "            json_response = response.json()\n",
    "            if petId == json_response['id']:\n",
    "                return json_response\n",
    "        return json.dumps({'error': 'Pet id not found.'})\n",
    "    except requests.exceptions.HTTPError as e:\n",
    "        if response.status_code == 404:\n",
    "            return json.dumps({'error': 'Pet id not found.'})\n",
    "        else:\n",
    "            return json.dumps({'error': 'Error with API.'})\n",
    "\n",
    "def retrieve_user_info(username: str) -> str:\n",
    "    try:\n",
    "        url = 'https://petstore3.swagger.io/api/v3/user/' + username\n",
    "        response = requests.get(url)\n",
    "        # Raise an exception if the response was unsuccessful\n",
    "        response.raise_for_status()\n",
    "        if response.ok :\n",
    "            json_response = response.json()\n",
    "            if username == json_response['username']:\n",
    "                return json_response\n",
    "        return json.dumps({'error': 'Username id not found.'})\n",
    "    except requests.exceptions.HTTPError as e:\n",
    "        if response.status_code == 404:\n",
    "            return json.dumps({'error': 'Username not found.'})\n",
    "        else:\n",
    "            return json.dumps({'error': 'Error with API.'})"
   ]
  },
  {
   "cell_type": "markdown",
   "id": "3986fc53-ae54-49d7-896c-d30254588bb1",
   "metadata": {},
   "source": [
    "- In order for Mistral models to understand the functions, we need to outline the function specifications with a JSON schema. Specifically, we need to describe the type, function name, function description, function parameters, and the required parameter for the function. Since we have two functions here, let’s list two function specifications in a list."
   ]
  },
  {
   "cell_type": "code",
   "execution_count": 2,
   "id": "3cf038c1-648c-44d8-b89a-df08a5e1187f",
   "metadata": {},
   "outputs": [],
   "source": [
    "from mistral_common.protocol.instruct.tool_calls import Function, Tool\n",
    "\n",
    "user_tools=[\n",
    "        Tool(\n",
    "            function=Function(\n",
    "                name=\"retrieve_pet_info\",\n",
    "                description=\"Find pet by ID\",\n",
    "                parameters={\n",
    "                    \"type\": \"object\",\n",
    "                    \"properties\": {\n",
    "                        \"petId\": {\n",
    "                        \"type\": \"integer\",\n",
    "                        \"description\": \"The pet id.\",\n",
    "                        }\n",
    "                    },\n",
    "                    \"required\": [\"petId\"],\n",
    "                },\n",
    "            )\n",
    "        ),\n",
    "        Tool(\n",
    "            function=Function(\n",
    "                name=\"retrieve_user_info\",\n",
    "                description=\"Get user by user name\",\n",
    "                parameters={\n",
    "                    \"type\": \"object\",\n",
    "                    \"properties\": {\n",
    "                        \"username\": {\n",
    "                        \"type\": \"string\",\n",
    "                        \"description\": \"The username.\",\n",
    "                        }\n",
    "                    },\n",
    "                    \"required\": [\"username\"],\n",
    "                },\n",
    "            )\n",
    "        )\n",
    "    ]\n",
    "\n"
   ]
  },
  {
   "cell_type": "markdown",
   "id": "8e0039fa-d43e-472c-8a1c-7bc12e6aaa0a",
   "metadata": {},
   "source": [
    "- Then we organize the two functions into a dictionary where keys represent the function name, and values are the function with the df defined. This allows us to call each function based on its function name."
   ]
  },
  {
   "cell_type": "code",
   "execution_count": 3,
   "id": "382a6359-e12a-4d61-96b5-bc47ee3247fc",
   "metadata": {},
   "outputs": [],
   "source": [
    "import functools\n",
    "\n",
    "names_to_functions = {\n",
    "  'retrieve_pet_info': functools.partial(retrieve_pet_info, petId=''),\n",
    "  'retrieve_user_info': functools.partial(retrieve_user_info, username='')  \n",
    "}"
   ]
  },
  {
   "cell_type": "markdown",
   "id": "5bfa3bbc-ce65-43a0-81ce-0c05836af961",
   "metadata": {},
   "source": [
    "### User query\n",
    "\n",
    "Suppose a user asks the following question: “What’s the status of my Pet 1?” A standalone LLM would not be able to answer this question, as it needs to query the business logic backend to access the necessary data. But what if we have an exact tool we can use to answer this question? We could potentially provide an answer!"
   ]
  },
  {
   "cell_type": "code",
   "execution_count": 91,
   "id": "789c983a-148e-4ff3-aee7-68a76af6d2a0",
   "metadata": {},
   "outputs": [],
   "source": [
    "from mistral_common.protocol.instruct.messages import UserMessage\n",
    "\n",
    "user_messages=[UserMessage(content=\"What's the status of my Pet 1?\")\n",
    "        ]"
   ]
  },
  {
   "cell_type": "markdown",
   "id": "439124dd-ea61-4bba-894d-3d9214af7d0c",
   "metadata": {},
   "source": [
    "## Step 2. Model: Generate function arguments \n",
    "\n",
    "How do Mistral models know about these functions and know which function to use? We provide both the user query and the tools specifications to Mistral models. The goal in this step is not for the Mistral model to run the function directly. It’s to 1) determine the appropriate function to use , 2) identify if there is any essential information missing for a function, and 3) generate necessary arguments for the chosen function."
   ]
  },
  {
   "cell_type": "code",
   "execution_count": 89,
   "id": "4a205e11-f156-41c8-acb5-cba334b68f1d",
   "metadata": {},
   "outputs": [],
   "source": [
    "from mistral_inference.model import Transformer\n",
    "from mistral_inference.generate import generate\n",
    "\n",
    "from mistral_common.tokens.tokenizers.mistral import MistralTokenizer\n",
    "\n",
    "from mistral_common.protocol.instruct.request import ChatCompletionRequest"
   ]
  },
  {
   "cell_type": "markdown",
   "id": "450403af-e9fe-4414-b9b7-12865fe5579d",
   "metadata": {},
   "source": [
    "- We specify the location to load the mistral model and tokenizer.  These models are downloaded from [mistral-inference](https://github.com/mistralai/mistral-inference) repo. We have downloaded the mistral 7BInstructv3 model"
   ]
  },
  {
   "cell_type": "code",
   "execution_count": 6,
   "id": "444e1838-d620-4a05-a68a-554f28cf5f65",
   "metadata": {},
   "outputs": [],
   "source": [
    "tokenizer = MistralTokenizer.from_file(\"./mistral_models/7B_instruct/tokenizer.model.v3\")  # change to extracted tok>\n",
    "model = Transformer.from_folder(\"./mistral_models/7B_instruct\")  # change to extracted model dir"
   ]
  },
  {
   "cell_type": "code",
   "execution_count": 92,
   "id": "5f4979b6-aff5-432f-a2a2-679db5b8eca5",
   "metadata": {},
   "outputs": [],
   "source": [
    "completion_request = ChatCompletionRequest(tools=user_tools, messages=user_messages,)"
   ]
  },
  {
   "cell_type": "code",
   "execution_count": 8,
   "id": "d6d5c1f1-0433-48cc-884e-120df75493b0",
   "metadata": {},
   "outputs": [],
   "source": [
    "tokens = tokenizer.encode_chat_completion(completion_request).tokens\n"
   ]
  },
  {
   "cell_type": "markdown",
   "id": "6cf881d2-89e9-442d-a48a-aa4800b7b179",
   "metadata": {},
   "source": [
    "max_tokens control the output of model as tokens, set it based on required function call."
   ]
  },
  {
   "cell_type": "code",
   "execution_count": 9,
   "id": "5fdf68b2-a3dd-40a9-83a6-975662493901",
   "metadata": {},
   "outputs": [],
   "source": [
    "out_tokens, _ = generate([tokens], model, max_tokens=25, temperature=0.0, eos_id=tokenizer.instruct_tokenizer.tokenizer.eos_id)"
   ]
  },
  {
   "cell_type": "code",
   "execution_count": 10,
   "id": "0e4ef6c0-f6ea-4c09-8181-efb2c82f5e05",
   "metadata": {},
   "outputs": [
    {
     "data": {
      "text/plain": [
       "'[{\"name\": \"retrieve_pet_info\", \"arguments\": {\"petId\": 1}}]'"
      ]
     },
     "execution_count": 10,
     "metadata": {},
     "output_type": "execute_result"
    }
   ],
   "source": [
    "result = tokenizer.instruct_tokenizer.tokenizer.decode(out_tokens[0])\n",
    "#remove any blank space from token output\n",
    "result = result.strip()\n",
    "result"
   ]
  },
  {
   "cell_type": "markdown",
   "id": "a3e72294-eb42-4818-9d67-c897b26ec0ab",
   "metadata": {},
   "source": [
    "## Step 3. User: Execute function to obtain tool results\n",
    "\n",
    "How do we execute the function? Currently, it is the user’s responsibility to execute these functions and the function execution lies on the user side. In the future, we may introduce some helpful functions that can be executed server-side.\n",
    "\n",
    "Let’s extract some useful function information from model response including function_name and function_params. It’s clear here that our Mistral model has chosen to use the function `retrieve_payment_status` with the parameter `transaction_id` set to T1001."
   ]
  },
  {
   "cell_type": "code",
   "execution_count": 11,
   "id": "2e804ace-ab26-4a6c-b3ea-96ab330dc748",
   "metadata": {},
   "outputs": [
    {
     "name": "stdout",
     "output_type": "stream",
     "text": [
      "\n",
      "function_name:  retrieve_pet_info \n",
      "function_params:  {'petId': 1}\n"
     ]
    }
   ],
   "source": [
    "import json\n",
    "tool_call = json.loads(result)\n",
    "function_name = tool_call[0][\"name\"]\n",
    "function_params = (tool_call[0][\"arguments\"]) \n",
    "print(\"\\nfunction_name: \", function_name, \"\\nfunction_params: \", function_params)"
   ]
  },
  {
   "cell_type": "code",
   "execution_count": 12,
   "id": "51f5b003-5a40-4ad6-9b99-bf161063f479",
   "metadata": {},
   "outputs": [
    {
     "data": {
      "text/plain": [
       "{'id': 1,\n",
       " 'category': {'id': 1, 'name': 'Bears'},\n",
       " 'name': 'Zoe',\n",
       " 'photoUrls': ['string'],\n",
       " 'tags': [{'id': 1, 'name': 'string'}],\n",
       " 'status': 'available'}"
      ]
     },
     "execution_count": 12,
     "metadata": {},
     "output_type": "execute_result"
    }
   ],
   "source": [
    "function_result = names_to_functions[function_name](**function_params)\n",
    "function_result"
   ]
  },
  {
   "cell_type": "code",
   "execution_count": null,
   "id": "e64293f6-e148-416f-8993-1065fc255411",
   "metadata": {},
   "outputs": [],
   "source": []
  },
  {
   "cell_type": "code",
   "execution_count": null,
   "id": "51f5c53a-e0e2-4e86-93eb-440561240e0e",
   "metadata": {},
   "outputs": [],
   "source": []
  },
  {
   "cell_type": "markdown",
   "id": "4c11279d-fea3-412e-a0a6-799169306673",
   "metadata": {},
   "source": [
    "TODO - parse open api spec for dynamic tool definition creation"
   ]
  },
  {
   "cell_type": "code",
   "execution_count": null,
   "id": "3ef54ab9-a46d-4078-b9cb-aa2f532ecb3e",
   "metadata": {},
   "outputs": [],
   "source": [
    "!pip install --upgrade  prance openapi-spec-validator\n"
   ]
  },
  {
   "cell_type": "code",
   "execution_count": 1,
   "id": "194cc13b-1bcd-4bdd-894f-6756b7cc52e1",
   "metadata": {},
   "outputs": [],
   "source": [
    "import prance\n",
    "\n",
    "def load_openapi_spec(file_path):\n",
    "    \"\"\"\n",
    "    Loads an OpenAPI specification from a JSON file.\n",
    "    \n",
    "    Args:\n",
    "        file_path (str): The path to the OpenAPI specification file.\n",
    "        \n",
    "    Returns:\n",
    "        The parsed OpenAPI specification object.\n",
    "    \"\"\"\n",
    "    # Parse the OpenAPI specification file\n",
    "    parser = prance.ResolvingParser(file_path, backend='openapi-spec-validator')\n",
    "\n",
    "    #parser = prance.ResolvingParser(file_path)\n",
    "    spec = parser.specification\n",
    "\n",
    "    return spec\n"
   ]
  },
  {
   "cell_type": "code",
   "execution_count": 2,
   "id": "26672623-d5ff-4be6-8de4-c0547cab86de",
   "metadata": {},
   "outputs": [
    {
     "name": "stdout",
     "output_type": "stream",
     "text": [
      "Paths: ['/pet', '/pet/findByStatus', '/pet/findByTags', '/pet/{petId}', '/pet/{petId}/uploadImage', '/store/inventory', '/store/order', '/store/order/{orderId}', '/user', '/user/createWithList', '/user/login', '/user/logout', '/user/{username}']\n",
      "getPetById\n",
      "Returns a single pet\n",
      "[{'name': 'petId', 'in': 'path', 'description': 'ID of pet to return', 'required': True, 'schema': {'type': 'integer', 'format': 'int64'}}]\n"
     ]
    }
   ],
   "source": [
    "# Load the OpenAPI specification\n",
    "spec = load_openapi_spec('openapi.json')\n",
    "print(f\"Paths: {list(spec['paths'].keys())}\")\n",
    "# Display json for get\n",
    "#spec['paths']['/pet/{petId}']['get']\n",
    "function_name=spec['paths']['/pet/{petId}']['get']['operationId']\n",
    "print(function_name)\n",
    "function_description=spec['paths']['/pet/{petId}']['get']['description']\n",
    "print(function_description)\n",
    "function_parameters=spec['paths']['/pet/{petId}']['get']['parameters']\n",
    "print(function_parameters)"
   ]
  },
  {
   "cell_type": "code",
   "execution_count": 60,
   "id": "c03d3b77-7a6f-46d0-9882-f37a5e9f0fcc",
   "metadata": {},
   "outputs": [
    {
     "name": "stdout",
     "output_type": "stream",
     "text": [
      "Paths: ['/pet', '/pet/findByStatus', '/pet/findByTags', '/pet/{petId}', '/pet/{petId}/uploadImage', '/store/inventory', '/store/order', '/store/order/{orderId}', '/user', '/user/createWithList', '/user/login', '/user/logout', '/user/{username}']\n",
      "getUserByName\n",
      "\n",
      "[{'name': 'username', 'in': 'path', 'description': 'The name that needs to be fetched. Use user1 for testing. ', 'required': True, 'schema': {'type': 'string'}}]\n"
     ]
    }
   ],
   "source": [
    "# Load the OpenAPI specification\n",
    "spec = load_openapi_spec('openapi.json')\n",
    "print(f\"Paths: {list(spec['paths'].keys())}\")\n",
    "# Display json for get\n",
    "#spec['paths']['/pet/{petId}']['get']\n",
    "function_name=spec['paths']['/user/{username}']['get']['operationId']\n",
    "print(function_name)\n",
    "function_description=spec['paths']['/user/{username}']['get']['description']\n",
    "print(function_description)\n",
    "function_parameters=spec['paths']['/user/{username}']['get']['parameters']\n",
    "print(function_parameters)"
   ]
  },
  {
   "cell_type": "raw",
   "id": "45bbf910-01c6-4fff-a1b9-7c6ef24d56e4",
   "metadata": {},
   "source": [
    "\n",
    "Tool(\n",
    "            function=Function(\n",
    "                name=\"retrieve_pet_info\",\n",
    "                description=\"Find pet by ID\",\n",
    "                parameters={\n",
    "                    \"type\": \"object\",\n",
    "                    \"properties\": {\n",
    "                        \"petId\": {\n",
    "                        \"type\": \"integer\",\n",
    "                        \"description\": \"The pet id.\",\n",
    "                        }\n",
    "                    },\n",
    "                    \"required\": [\"petId\"],\n",
    "                },\n",
    "            )\n",
    "        )\n"
   ]
  },
  {
   "cell_type": "code",
   "execution_count": 3,
   "id": "49d69740-32bd-4836-a8de-795e4fd1506d",
   "metadata": {},
   "outputs": [],
   "source": [
    "from mistral_common.protocol.instruct.tool_calls import Function, Tool"
   ]
  },
  {
   "cell_type": "code",
   "execution_count": 4,
   "id": "fae591d5-f8fd-495c-8c3f-307ac58292c3",
   "metadata": {},
   "outputs": [],
   "source": [
    "toolFunct = Function"
   ]
  },
  {
   "cell_type": "code",
   "execution_count": 52,
   "id": "b7d6aa48-0cbc-4d7d-a2eb-687e076784c8",
   "metadata": {},
   "outputs": [],
   "source": [
    "func_parameters = {\n",
    "    \"type\": \"object\",\n",
    "    \"properties\": {\n",
    "        function_parameters[0]['name']: {\n",
    "            \"type\": function_parameters[0]['schema']['type'],\n",
    "            \"description\": function_parameters[0]['description']\n",
    "        }\n",
    "    },\n",
    "    \"required\": [function_parameters[0]['name']]\n",
    "}"
   ]
  },
  {
   "cell_type": "code",
   "execution_count": 53,
   "id": "cda9c2b7-15f2-4393-9838-d1a434e0b3d0",
   "metadata": {},
   "outputs": [],
   "source": [
    "import jsonschema\n",
    "\n",
    "# Define the input data\n",
    "input_data = {\"petId\": 123}\n",
    "\n",
    "# Validate the input data against the schema\n",
    "jsonschema.validate(instance=input_data, schema=parameters)"
   ]
  },
  {
   "cell_type": "code",
   "execution_count": 64,
   "id": "e63f0b41-17bd-464e-bf75-10d2bf13b13f",
   "metadata": {},
   "outputs": [],
   "source": [
    "spec = load_openapi_spec('openapi.json')\n",
    "function_name=spec['paths']['/pet/{petId}']['get']['operationId']\n",
    "function_description=spec['paths']['/pet/{petId}']['get']['description']\n",
    "function_parameters=spec['paths']['/pet/{petId}']['get']['parameters']\n",
    "func_parameters = {\n",
    "    \"type\": \"object\",\n",
    "    \"properties\": {\n",
    "        function_parameters[0]['name']: {\n",
    "            \"type\": function_parameters[0]['schema']['type'],\n",
    "            \"description\": function_parameters[0]['description']\n",
    "        }\n",
    "    },\n",
    "    \"required\": [function_parameters[0]['name']]\n",
    "}\n",
    "\n",
    "user_function_1= Function(name = function_name, description = function_description, parameters = func_parameters, )"
   ]
  },
  {
   "cell_type": "code",
   "execution_count": 65,
   "id": "78e03020-b2e7-4e7d-972a-d861a7edc970",
   "metadata": {},
   "outputs": [],
   "source": [
    "spec = load_openapi_spec('openapi.json')\n",
    "function_name=spec['paths']['/user/{username}']['get']['operationId']\n",
    "function_description=spec['paths']['/user/{username}']['get']['description']\n",
    "function_parameters=spec['paths']['/user/{username}']['get']['parameters']\n",
    "func_parameters = {\n",
    "    \"type\": \"object\",\n",
    "    \"properties\": {\n",
    "        function_parameters[0]['name']: {\n",
    "            \"type\": function_parameters[0]['schema']['type'],\n",
    "            \"description\": function_parameters[0]['description']\n",
    "        }\n",
    "    },\n",
    "    \"required\": [function_parameters[0]['name']]\n",
    "}\n",
    "\n",
    "user_function_2= Function(name = function_name, description = function_description, parameters = func_parameters, )"
   ]
  },
  {
   "cell_type": "code",
   "execution_count": 66,
   "id": "d7082210-ca83-46ad-95a2-596c19c3fbce",
   "metadata": {},
   "outputs": [],
   "source": [
    "user_tool_1 = Tool(function = user_function_1)"
   ]
  },
  {
   "cell_type": "code",
   "execution_count": 67,
   "id": "02ad1fb0-72dd-4824-a712-09f976cb66cd",
   "metadata": {},
   "outputs": [],
   "source": [
    "user_tool_2 = Tool(function = user_function_2)"
   ]
  },
  {
   "cell_type": "code",
   "execution_count": 69,
   "id": "1a1dea4f-fb2e-4bb6-ab26-8cf36489ae57",
   "metadata": {},
   "outputs": [],
   "source": [
    "user_tools = [user_tool_1, user_tool_2]"
   ]
  },
  {
   "cell_type": "code",
   "execution_count": 47,
   "id": "4d14bac4-66c7-460f-a9ea-2967465db55d",
   "metadata": {},
   "outputs": [
    {
     "name": "stdout",
     "output_type": "stream",
     "text": [
      "getPetById - Returns a single pet - {'type': 'object', 'properties': {'petId': {'type': 'integer', 'description': 'ID of pet to return'}}, 'required': ['petId']}\n"
     ]
    }
   ],
   "source": [
    "print(toolFunct.name + ' - ' + toolFunct.description +  ' - ' + str(toolFunct.parameters)) "
   ]
  },
  {
   "cell_type": "code",
   "execution_count": null,
   "id": "7b49af5e-7962-4a1e-acb9-8bf5f31053e6",
   "metadata": {},
   "outputs": [],
   "source": []
  },
  {
   "cell_type": "code",
   "execution_count": 84,
   "id": "a195eee2-3ea1-4be7-828e-5b098850e09a",
   "metadata": {},
   "outputs": [],
   "source": [
    "objs = [['pet','petId'], ['user', 'username'], ['store/order','orderId']]\n",
    "params = ['operationId', 'description',  'parameters']\n",
    "user_tools = []"
   ]
  },
  {
   "cell_type": "code",
   "execution_count": 88,
   "id": "6b7b3ca7-0daa-4006-b84d-2ed3ee310bd0",
   "metadata": {},
   "outputs": [
    {
     "name": "stdout",
     "output_type": "stream",
     "text": [
      "Resource: pet, Field: petId, Path : /pet/{petId}\n",
      "Resource: user, Field: username, Path : /user/{username}\n",
      "Resource: store/order, Field: orderId, Path : /store/order/{orderId}\n"
     ]
    }
   ],
   "source": [
    "for obj in objs:\n",
    "    resource, field = obj\n",
    "    path = '/' + resource + '/{' + field + '}'\n",
    "    function_name=spec['paths'][path]['get'][params[0]]\n",
    "    function_description=spec['paths'][path]['get'][params[1]]\n",
    "    function_parameters=spec['paths'][path]['get'][params[2]]\n",
    "    func_parameters = {\n",
    "    \"type\": \"object\",\n",
    "    \"properties\": {\n",
    "        function_parameters[0]['name']: {\n",
    "            \"type\": function_parameters[0]['schema']['type'],\n",
    "            \"description\": function_parameters[0]['description']\n",
    "        }\n",
    "    },\n",
    "    \"required\": [function_parameters[0]['name']]\n",
    "}\n",
    "    user_function= Function(name = function_name, description = function_description, parameters = func_parameters, )\n",
    "    user_tool = Tool(function = user_function)\n",
    "    user_tools.append(user_tool)\n",
    "    print(f\"Resource: {resource}, Field: {field}, Path : {path}\")"
   ]
  },
  {
   "cell_type": "code",
   "execution_count": 93,
   "id": "4a99c576-2026-46d9-a293-c138c7d2d036",
   "metadata": {},
   "outputs": [],
   "source": [
    "completion_request = ChatCompletionRequest(tools=user_tools, messages=user_messages,)"
   ]
  },
  {
   "cell_type": "code",
   "execution_count": 79,
   "id": "5da16fd3-cb08-4a20-a519-89f25e3433db",
   "metadata": {},
   "outputs": [],
   "source": [
    "spec = load_openapi_spec('openapi.json')\n",
    "path = '/' + obj_1_name + '/{' + obj_1_id + '}'\n",
    "params = ['operationId', 'description',  'parameters']\n",
    "function_name=spec['paths'][path]['get'][params[0]]\n",
    "function_description=spec['paths'][path]['get'][params[1]]\n",
    "function_parameters=spec['paths'][path]['get'][params[2]]\n",
    "func_parameters = {\n",
    "    \"type\": \"object\",\n",
    "    \"properties\": {\n",
    "        function_parameters[0]['name']: {\n",
    "            \"type\": function_parameters[0]['schema']['type'],\n",
    "            \"description\": function_parameters[0]['description']\n",
    "        }\n",
    "    },\n",
    "    \"required\": [function_parameters[0]['name']]\n",
    "}\n",
    "\n",
    "user_function_1= Function(name = function_name, description = function_description, parameters = func_parameters, )"
   ]
  },
  {
   "cell_type": "code",
   "execution_count": 74,
   "id": "dd20c353-dc79-4a37-a2f7-0dc8bf5149f1",
   "metadata": {},
   "outputs": [
    {
     "data": {
      "text/plain": [
       "'getPetById'"
      ]
     },
     "execution_count": 74,
     "metadata": {},
     "output_type": "execute_result"
    }
   ],
   "source": [
    "path = '/' + obj_1_name + '/{' + obj_1_id + '}'\n",
    "function_name=spec['paths'][path]['get']['operationId']\n",
    "function_name"
   ]
  },
  {
   "cell_type": "code",
   "execution_count": 11,
   "id": "909ce798-9adc-48ea-b738-ebdbe955ae9e",
   "metadata": {},
   "outputs": [
    {
     "name": "stdout",
     "output_type": "stream",
     "text": [
      "\n",
      "Attributes and values using vars():\n",
      "__module__: mistral_common.protocol.instruct.tool_calls\n",
      "__annotations__: {'name': <class 'str'>, 'description': <class 'str'>, 'parameters': typing.Dict[str, typing.Any]}\n",
      "model_config: {'extra': 'forbid', 'validate_default': True, 'use_enum_values': True}\n",
      "__class_vars__: set()\n",
      "__private_attributes__: {}\n",
      "__doc__: None\n",
      "__abstractmethods__: frozenset()\n",
      "_abc_impl: <_abc._abc_data object at 0x7e740709f500>\n",
      "__pydantic_custom_init__: False\n",
      "__pydantic_post_init__: None\n",
      "__pydantic_decorators__: DecoratorInfos(validators={}, field_validators={}, root_validators={}, field_serializers={}, model_serializers={}, model_validators={}, computed_fields={})\n",
      "__pydantic_generic_metadata__: {'origin': None, 'args': (), 'parameters': ()}\n",
      "__pydantic_complete__: True\n",
      "__pydantic_parent_namespace__: {'__name__': 'mistral_common.protocol.instruct.tool_calls', '__doc__': <pydantic._internal._model_construction._PydanticWeakRef object at 0x7e7420d6b0d0>, '__package__': 'mistral_common.protocol.instruct', '__loader__': <pydantic._internal._model_construction._PydanticWeakRef object at 0x7e7407194b50>, '__spec__': <pydantic._internal._model_construction._PydanticWeakRef object at 0x7e74071948e0>, '__file__': '/home/sachin/code/llm-recipes/src/mistral/venv/lib/python3.10/site-packages/mistral_common/protocol/instruct/tool_calls.py', '__cached__': '/home/sachin/code/llm-recipes/src/mistral/venv/lib/python3.10/site-packages/mistral_common/protocol/instruct/__pycache__/tool_calls.cpython-310.pyc', '__builtins__': {'__name__': 'builtins', '__doc__': \"Built-in functions, exceptions, and other objects.\\n\\nNoteworthy: None is the `nil' object; Ellipsis represents `...' in slices.\", '__package__': '', '__loader__': <class '_frozen_importlib.BuiltinImporter'>, '__spec__': ModuleSpec(name='builtins', loader=<class '_frozen_importlib.BuiltinImporter'>, origin='built-in'), '__build_class__': <built-in function __build_class__>, '__import__': <built-in function __import__>, 'abs': <built-in function abs>, 'all': <built-in function all>, 'any': <built-in function any>, 'ascii': <built-in function ascii>, 'bin': <built-in function bin>, 'breakpoint': <built-in function breakpoint>, 'callable': <built-in function callable>, 'chr': <built-in function chr>, 'compile': <built-in function compile>, 'delattr': <built-in function delattr>, 'dir': <built-in function dir>, 'divmod': <built-in function divmod>, 'eval': <built-in function eval>, 'exec': <built-in function exec>, 'format': <built-in function format>, 'getattr': <built-in function getattr>, 'globals': <built-in function globals>, 'hasattr': <built-in function hasattr>, 'hash': <built-in function hash>, 'hex': <built-in function hex>, 'id': <built-in function id>, 'input': <bound method Kernel.raw_input of <ipykernel.ipkernel.IPythonKernel object at 0x7e7429c352a0>>, 'isinstance': <built-in function isinstance>, 'issubclass': <built-in function issubclass>, 'iter': <built-in function iter>, 'aiter': <built-in function aiter>, 'len': <built-in function len>, 'locals': <built-in function locals>, 'max': <built-in function max>, 'min': <built-in function min>, 'next': <built-in function next>, 'anext': <built-in function anext>, 'oct': <built-in function oct>, 'ord': <built-in function ord>, 'pow': <built-in function pow>, 'print': <built-in function print>, 'repr': <built-in function repr>, 'round': <built-in function round>, 'setattr': <built-in function setattr>, 'sorted': <built-in function sorted>, 'sum': <built-in function sum>, 'vars': <built-in function vars>, 'None': None, 'Ellipsis': Ellipsis, 'NotImplemented': NotImplemented, 'False': False, 'True': True, 'bool': <class 'bool'>, 'memoryview': <class 'memoryview'>, 'bytearray': <class 'bytearray'>, 'bytes': <class 'bytes'>, 'classmethod': <class 'classmethod'>, 'complex': <class 'complex'>, 'dict': <class 'dict'>, 'enumerate': <class 'enumerate'>, 'filter': <class 'filter'>, 'float': <class 'float'>, 'frozenset': <class 'frozenset'>, 'property': <class 'property'>, 'int': <class 'int'>, 'list': <class 'list'>, 'map': <class 'map'>, 'object': <class 'object'>, 'range': <class 'range'>, 'reversed': <class 'reversed'>, 'set': <class 'set'>, 'slice': <class 'slice'>, 'staticmethod': <class 'staticmethod'>, 'str': <class 'str'>, 'super': <class 'super'>, 'tuple': <class 'tuple'>, 'type': <class 'type'>, 'zip': <class 'zip'>, '__debug__': True, 'BaseException': <class 'BaseException'>, 'Exception': <class 'Exception'>, 'TypeError': <class 'TypeError'>, 'StopAsyncIteration': <class 'StopAsyncIteration'>, 'StopIteration': <class 'StopIteration'>, 'GeneratorExit': <class 'GeneratorExit'>, 'SystemExit': <class 'SystemExit'>, 'KeyboardInterrupt': <class 'KeyboardInterrupt'>, 'ImportError': <class 'ImportError'>, 'ModuleNotFoundError': <class 'ModuleNotFoundError'>, 'OSError': <class 'OSError'>, 'EnvironmentError': <class 'OSError'>, 'IOError': <class 'OSError'>, 'EOFError': <class 'EOFError'>, 'RuntimeError': <class 'RuntimeError'>, 'RecursionError': <class 'RecursionError'>, 'NotImplementedError': <class 'NotImplementedError'>, 'NameError': <class 'NameError'>, 'UnboundLocalError': <class 'UnboundLocalError'>, 'AttributeError': <class 'AttributeError'>, 'SyntaxError': <class 'SyntaxError'>, 'IndentationError': <class 'IndentationError'>, 'TabError': <class 'TabError'>, 'LookupError': <class 'LookupError'>, 'IndexError': <class 'IndexError'>, 'KeyError': <class 'KeyError'>, 'ValueError': <class 'ValueError'>, 'UnicodeError': <class 'UnicodeError'>, 'UnicodeEncodeError': <class 'UnicodeEncodeError'>, 'UnicodeDecodeError': <class 'UnicodeDecodeError'>, 'UnicodeTranslateError': <class 'UnicodeTranslateError'>, 'AssertionError': <class 'AssertionError'>, 'ArithmeticError': <class 'ArithmeticError'>, 'FloatingPointError': <class 'FloatingPointError'>, 'OverflowError': <class 'OverflowError'>, 'ZeroDivisionError': <class 'ZeroDivisionError'>, 'SystemError': <class 'SystemError'>, 'ReferenceError': <class 'ReferenceError'>, 'MemoryError': <class 'MemoryError'>, 'BufferError': <class 'BufferError'>, 'Warning': <class 'Warning'>, 'UserWarning': <class 'UserWarning'>, 'EncodingWarning': <class 'EncodingWarning'>, 'DeprecationWarning': <class 'DeprecationWarning'>, 'PendingDeprecationWarning': <class 'PendingDeprecationWarning'>, 'SyntaxWarning': <class 'SyntaxWarning'>, 'RuntimeWarning': <class 'RuntimeWarning'>, 'FutureWarning': <class 'FutureWarning'>, 'ImportWarning': <class 'ImportWarning'>, 'UnicodeWarning': <class 'UnicodeWarning'>, 'BytesWarning': <class 'BytesWarning'>, 'ResourceWarning': <class 'ResourceWarning'>, 'ConnectionError': <class 'ConnectionError'>, 'BlockingIOError': <class 'BlockingIOError'>, 'BrokenPipeError': <class 'BrokenPipeError'>, 'ChildProcessError': <class 'ChildProcessError'>, 'ConnectionAbortedError': <class 'ConnectionAbortedError'>, 'ConnectionRefusedError': <class 'ConnectionRefusedError'>, 'ConnectionResetError': <class 'ConnectionResetError'>, 'FileExistsError': <class 'FileExistsError'>, 'FileNotFoundError': <class 'FileNotFoundError'>, 'IsADirectoryError': <class 'IsADirectoryError'>, 'NotADirectoryError': <class 'NotADirectoryError'>, 'InterruptedError': <class 'InterruptedError'>, 'PermissionError': <class 'PermissionError'>, 'ProcessLookupError': <class 'ProcessLookupError'>, 'TimeoutError': <class 'TimeoutError'>, 'open': <built-in function open>, 'copyright': Copyright (c) 2001-2023 Python Software Foundation.\n",
      "All Rights Reserved.\n",
      "\n",
      "Copyright (c) 2000 BeOpen.com.\n",
      "All Rights Reserved.\n",
      "\n",
      "Copyright (c) 1995-2001 Corporation for National Research Initiatives.\n",
      "All Rights Reserved.\n",
      "\n",
      "Copyright (c) 1991-1995 Stichting Mathematisch Centrum, Amsterdam.\n",
      "All Rights Reserved., 'credits':     Thanks to CWI, CNRI, BeOpen.com, Zope Corporation and a cast of thousands\n",
      "    for supporting Python development.  See www.python.org for more information., 'license': Type license() to see the full license text, 'help': Type help() for interactive help, or help(object) for help about object., 'execfile': <function execfile at 0x7e7428b10790>, 'runfile': <function runfile at 0x7e742820f5b0>, '__IPYTHON__': True, 'display': <function display at 0x7e742a8c97e0>, 'get_ipython': <bound method InteractiveShell.get_ipython of <ipykernel.zmqshell.ZMQInteractiveShell object at 0x7e7420d28cd0>>}, 'json': <pydantic._internal._model_construction._PydanticWeakRef object at 0x7e74069657b0>, 'Enum': <pydantic._internal._model_construction._PydanticWeakRef object at 0x7e7406964fd0>, 'Any': <pydantic._internal._model_construction._PydanticWeakRef object at 0x7e7406964f40>, 'Dict': <pydantic._internal._model_construction._PydanticWeakRef object at 0x7e7406964130>, 'TypeVar': <pydantic._internal._model_construction._PydanticWeakRef object at 0x7e7406965750>, 'Union': <pydantic._internal._model_construction._PydanticWeakRef object at 0x7e7406967100>, 'field_validator': <pydantic._internal._model_construction._PydanticWeakRef object at 0x7e7406965fc0>, 'MistralBase': <pydantic._internal._model_construction._PydanticWeakRef object at 0x7e7406966ef0>}\n",
      "model_fields: {'name': FieldInfo(annotation=str, required=True), 'description': FieldInfo(annotation=str, required=False, default=''), 'parameters': FieldInfo(annotation=Dict[str, Any], required=True)}\n",
      "__pydantic_core_schema__: {'type': 'model', 'cls': <class 'mistral_common.protocol.instruct.tool_calls.Function'>, 'schema': {'type': 'model-fields', 'fields': {'name': {'type': 'model-field', 'schema': {'type': 'str', 'metadata': {'pydantic.internal.needs_apply_discriminated_union': False}}, 'metadata': {'pydantic_js_functions': [], 'pydantic_js_annotation_functions': [<function get_json_schema_update_func.<locals>.json_schema_update_func at 0x7e740695f1c0>]}}, 'description': {'type': 'model-field', 'schema': {'type': 'default', 'schema': {'type': 'str', 'metadata': {'pydantic.internal.needs_apply_discriminated_union': False}}, 'default': ''}, 'metadata': {'pydantic_js_functions': [], 'pydantic_js_annotation_functions': [<function get_json_schema_update_func.<locals>.json_schema_update_func at 0x7e74069f0940>]}}, 'parameters': {'type': 'model-field', 'schema': {'type': 'dict', 'keys_schema': {'type': 'str', 'metadata': {'pydantic.internal.needs_apply_discriminated_union': False}}, 'values_schema': {'type': 'any'}, 'strict': False}, 'metadata': {'pydantic_js_functions': [], 'pydantic_js_annotation_functions': [<function get_json_schema_update_func.<locals>.json_schema_update_func at 0x7e74069f0a60>]}}}, 'model_name': 'Function', 'computed_fields': []}, 'custom_init': False, 'root_model': False, 'config': {'title': 'Function', 'extra_fields_behavior': 'forbid', 'validate_default': True}, 'ref': 'mistral_common.protocol.instruct.tool_calls.Function:97496630008224', 'metadata': {'pydantic_js_functions': [functools.partial(<function modify_model_json_schema at 0x7e7407060310>, cls=<class 'mistral_common.protocol.instruct.tool_calls.Function'>), <bound method BaseModel.__get_pydantic_json_schema__ of <class 'mistral_common.protocol.instruct.tool_calls.Function'>>], 'pydantic_js_annotation_functions': [], 'pydantic.internal.needs_apply_discriminated_union': False}}\n",
      "__pydantic_validator__: SchemaValidator(title=\"Function\", validator=Model(\n",
      "    ModelValidator {\n",
      "        revalidate: Never,\n",
      "        validator: ModelFields(\n",
      "            ModelFieldsValidator {\n",
      "                fields: [\n",
      "                    Field {\n",
      "                        name: \"name\",\n",
      "                        lookup_key: Simple {\n",
      "                            key: \"name\",\n",
      "                            py_key: Py(\n",
      "                                0x00007e74068d7930,\n",
      "                            ),\n",
      "                            path: LookupPath(\n",
      "                                [\n",
      "                                    S(\n",
      "                                        \"name\",\n",
      "                                        Py(\n",
      "                                            0x00007e74068d7530,\n",
      "                                        ),\n",
      "                                    ),\n",
      "                                ],\n",
      "                            ),\n",
      "                        },\n",
      "                        name_py: Py(\n",
      "                            0x00007e74068d6fb0,\n",
      "                        ),\n",
      "                        validator: Str(\n",
      "                            StrValidator {\n",
      "                                strict: false,\n",
      "                                coerce_numbers_to_str: false,\n",
      "                            },\n",
      "                        ),\n",
      "                        frozen: false,\n",
      "                    },\n",
      "                    Field {\n",
      "                        name: \"description\",\n",
      "                        lookup_key: Simple {\n",
      "                            key: \"description\",\n",
      "                            py_key: Py(\n",
      "                                0x00007e74068d6db0,\n",
      "                            ),\n",
      "                            path: LookupPath(\n",
      "                                [\n",
      "                                    S(\n",
      "                                        \"description\",\n",
      "                                        Py(\n",
      "                                            0x00007e74068d6c30,\n",
      "                                        ),\n",
      "                                    ),\n",
      "                                ],\n",
      "                            ),\n",
      "                        },\n",
      "                        name_py: Py(\n",
      "                            0x00007e74068d6c70,\n",
      "                        ),\n",
      "                        validator: WithDefault(\n",
      "                            WithDefaultValidator {\n",
      "                                default: Default(\n",
      "                                    Py(\n",
      "                                        0x00007e742ca3c030,\n",
      "                                    ),\n",
      "                                ),\n",
      "                                on_error: Raise,\n",
      "                                validator: Str(\n",
      "                                    StrValidator {\n",
      "                                        strict: false,\n",
      "                                        coerce_numbers_to_str: false,\n",
      "                                    },\n",
      "                                ),\n",
      "                                validate_default: true,\n",
      "                                copy_default: false,\n",
      "                                name: \"default[str]\",\n",
      "                                undefined: Py(\n",
      "                                    0x00007e7429f7b7e0,\n",
      "                                ),\n",
      "                            },\n",
      "                        ),\n",
      "                        frozen: false,\n",
      "                    },\n",
      "                    Field {\n",
      "                        name: \"parameters\",\n",
      "                        lookup_key: Simple {\n",
      "                            key: \"parameters\",\n",
      "                            py_key: Py(\n",
      "                                0x00007e74068d6bb0,\n",
      "                            ),\n",
      "                            path: LookupPath(\n",
      "                                [\n",
      "                                    S(\n",
      "                                        \"parameters\",\n",
      "                                        Py(\n",
      "                                            0x00007e74068d6bf0,\n",
      "                                        ),\n",
      "                                    ),\n",
      "                                ],\n",
      "                            ),\n",
      "                        },\n",
      "                        name_py: Py(\n",
      "                            0x00007e74068d6ab0,\n",
      "                        ),\n",
      "                        validator: Dict(\n",
      "                            DictValidator {\n",
      "                                strict: false,\n",
      "                                key_validator: Str(\n",
      "                                    StrValidator {\n",
      "                                        strict: false,\n",
      "                                        coerce_numbers_to_str: false,\n",
      "                                    },\n",
      "                                ),\n",
      "                                value_validator: Any(\n",
      "                                    AnyValidator,\n",
      "                                ),\n",
      "                                min_length: None,\n",
      "                                max_length: None,\n",
      "                                name: \"dict[str,any]\",\n",
      "                            },\n",
      "                        ),\n",
      "                        frozen: false,\n",
      "                    },\n",
      "                ],\n",
      "                model_name: \"Function\",\n",
      "                extra_behavior: Forbid,\n",
      "                extras_validator: None,\n",
      "                strict: false,\n",
      "                from_attributes: false,\n",
      "                loc_by_alias: true,\n",
      "            },\n",
      "        ),\n",
      "        class: Py(\n",
      "            0x000058ac33ff99a0,\n",
      "        ),\n",
      "        post_init: None,\n",
      "        frozen: false,\n",
      "        custom_init: false,\n",
      "        root_model: false,\n",
      "        undefined: Py(\n",
      "            0x00007e7429f7b7e0,\n",
      "        ),\n",
      "        name: \"Function\",\n",
      "    },\n",
      "), definitions=[])\n",
      "__pydantic_serializer__: SchemaSerializer(serializer=Model(\n",
      "    ModelSerializer {\n",
      "        class: Py(\n",
      "            0x000058ac33ff99a0,\n",
      "        ),\n",
      "        serializer: Fields(\n",
      "            GeneralFieldsSerializer {\n",
      "                fields: {\n",
      "                    \"name\": SerField {\n",
      "                        key_py: Py(\n",
      "                            0x00007e742ca88af0,\n",
      "                        ),\n",
      "                        alias: None,\n",
      "                        alias_py: None,\n",
      "                        serializer: Some(\n",
      "                            Str(\n",
      "                                StrSerializer,\n",
      "                            ),\n",
      "                        ),\n",
      "                        required: true,\n",
      "                    },\n",
      "                    \"parameters\": SerField {\n",
      "                        key_py: Py(\n",
      "                            0x00007e742c032d30,\n",
      "                        ),\n",
      "                        alias: None,\n",
      "                        alias_py: None,\n",
      "                        serializer: Some(\n",
      "                            Dict(\n",
      "                                DictSerializer {\n",
      "                                    key_serializer: Str(\n",
      "                                        StrSerializer,\n",
      "                                    ),\n",
      "                                    value_serializer: Any(\n",
      "                                        AnySerializer,\n",
      "                                    ),\n",
      "                                    filter: SchemaFilter {\n",
      "                                        include: None,\n",
      "                                        exclude: None,\n",
      "                                    },\n",
      "                                    name: \"dict[str, any]\",\n",
      "                                },\n",
      "                            ),\n",
      "                        ),\n",
      "                        required: true,\n",
      "                    },\n",
      "                    \"description\": SerField {\n",
      "                        key_py: Py(\n",
      "                            0x00007e742b6aa230,\n",
      "                        ),\n",
      "                        alias: None,\n",
      "                        alias_py: None,\n",
      "                        serializer: Some(\n",
      "                            WithDefault(\n",
      "                                WithDefaultSerializer {\n",
      "                                    default: Default(\n",
      "                                        Py(\n",
      "                                            0x00007e742ca3c030,\n",
      "                                        ),\n",
      "                                    ),\n",
      "                                    serializer: Str(\n",
      "                                        StrSerializer,\n",
      "                                    ),\n",
      "                                },\n",
      "                            ),\n",
      "                        ),\n",
      "                        required: true,\n",
      "                    },\n",
      "                },\n",
      "                computed_fields: Some(\n",
      "                    ComputedFields(\n",
      "                        [],\n",
      "                    ),\n",
      "                ),\n",
      "                mode: SimpleDict,\n",
      "                extra_serializer: None,\n",
      "                filter: SchemaFilter {\n",
      "                    include: None,\n",
      "                    exclude: None,\n",
      "                },\n",
      "                required_fields: 3,\n",
      "            },\n",
      "        ),\n",
      "        has_extra: false,\n",
      "        root_model: false,\n",
      "        name: \"Function\",\n",
      "    },\n",
      "), definitions=[])\n",
      "__signature__: <pydantic._internal._utils.ClassAttribute object at 0x7e74069670d0>\n",
      "model_computed_fields: {}\n",
      "name: getPetById\n",
      "description: Returns a single pet\n"
     ]
    }
   ],
   "source": [
    "# Print the attributes and their values using vars()\n",
    "print(\"\\nAttributes and values using vars():\")\n",
    "for attribute, value in vars(toolFunct).items():\n",
    "    print(f\"{attribute}: {value}\")"
   ]
  },
  {
   "cell_type": "code",
   "execution_count": 13,
   "id": "21106081-aab7-4bee-bd49-b7170538c3fc",
   "metadata": {},
   "outputs": [
    {
     "name": "stdout",
     "output_type": "stream",
     "text": [
      "Attributes and values using dir():\n",
      "_abc_impl: <_abc._abc_data object at 0x7e740709f500>\n",
      "_calculate_keys: <function BaseModel._calculate_keys at 0x7e74070720e0>\n",
      "_check_frozen: <function BaseModel._check_frozen at 0x7e74070712d0>\n",
      "_copy_and_set_values: <function BaseModel._copy_and_set_values at 0x7e7407071fc0>\n",
      "_get_value: <bound method BaseModel._get_value of <class 'mistral_common.protocol.instruct.tool_calls.Function'>>\n",
      "_iter: <function BaseModel._iter at 0x7e7407071f30>\n",
      "construct: <bound method BaseModel.construct of <class 'mistral_common.protocol.instruct.tool_calls.Function'>>\n",
      "copy: <function BaseModel.copy at 0x7e7407071c60>\n",
      "description: Returns a single pet\n",
      "dict: <function BaseModel.dict at 0x7e7407071870>\n",
      "from_orm: <bound method BaseModel.from_orm of <class 'mistral_common.protocol.instruct.tool_calls.Function'>>\n",
      "json: <function BaseModel.json at 0x7e7407071900>\n",
      "model_computed_fields: {}\n",
      "model_config: {'extra': 'forbid', 'validate_default': True, 'use_enum_values': True}\n",
      "model_construct: <bound method BaseModel.model_construct of <class 'mistral_common.protocol.instruct.tool_calls.Function'>>\n",
      "model_copy: <function BaseModel.model_copy at 0x7e7407070820>\n",
      "model_dump: <function BaseModel.model_dump at 0x7e74070708b0>\n",
      "model_dump_json: <function BaseModel.model_dump_json at 0x7e7407070940>\n",
      "model_extra: <property object at 0x7e7406fb41d0>\n",
      "model_fields: {'name': FieldInfo(annotation=str, required=True), 'description': FieldInfo(annotation=str, required=False, default=''), 'parameters': FieldInfo(annotation=Dict[str, Any], required=True)}\n",
      "model_fields_set: <property object at 0x7e7406feaa20>\n",
      "model_json_schema: <bound method BaseModel.model_json_schema of <class 'mistral_common.protocol.instruct.tool_calls.Function'>>\n",
      "model_parametrized_name: <bound method BaseModel.model_parametrized_name of <class 'mistral_common.protocol.instruct.tool_calls.Function'>>\n",
      "model_post_init: <function BaseModel.model_post_init at 0x7e7407070af0>\n",
      "model_rebuild: <bound method BaseModel.model_rebuild of <class 'mistral_common.protocol.instruct.tool_calls.Function'>>\n",
      "model_validate: <bound method BaseModel.model_validate of <class 'mistral_common.protocol.instruct.tool_calls.Function'>>\n",
      "model_validate_json: <bound method BaseModel.model_validate_json of <class 'mistral_common.protocol.instruct.tool_calls.Function'>>\n",
      "model_validate_strings: <bound method BaseModel.model_validate_strings of <class 'mistral_common.protocol.instruct.tool_calls.Function'>>\n",
      "name: getPetById\n",
      "parse_file: <bound method BaseModel.parse_file of <class 'mistral_common.protocol.instruct.tool_calls.Function'>>\n",
      "parse_obj: <bound method BaseModel.parse_obj of <class 'mistral_common.protocol.instruct.tool_calls.Function'>>\n",
      "parse_raw: <bound method BaseModel.parse_raw of <class 'mistral_common.protocol.instruct.tool_calls.Function'>>\n",
      "schema: <bound method BaseModel.schema of <class 'mistral_common.protocol.instruct.tool_calls.Function'>>\n",
      "schema_json: <bound method BaseModel.schema_json of <class 'mistral_common.protocol.instruct.tool_calls.Function'>>\n",
      "update_forward_refs: <bound method BaseModel.update_forward_refs of <class 'mistral_common.protocol.instruct.tool_calls.Function'>>\n",
      "validate: <bound method BaseModel.validate of <class 'mistral_common.protocol.instruct.tool_calls.Function'>>\n"
     ]
    }
   ],
   "source": [
    "print(\"Attributes and values using dir():\")\n",
    "for attribute in dir(toolFunct):\n",
    "    if not attribute.startswith(\"__\"):\n",
    "        print(f\"{attribute}: {getattr(toolFunct, attribute)}\")"
   ]
  },
  {
   "cell_type": "code",
   "execution_count": null,
   "id": "d7ea7f62-aa37-465f-b212-48ce0c9c5c1a",
   "metadata": {},
   "outputs": [],
   "source": []
  }
 ],
 "metadata": {
  "kernelspec": {
   "display_name": "Python 3 (ipykernel)",
   "language": "python",
   "name": "python3"
  },
  "language_info": {
   "codemirror_mode": {
    "name": "ipython",
    "version": 3
   },
   "file_extension": ".py",
   "mimetype": "text/x-python",
   "name": "python",
   "nbconvert_exporter": "python",
   "pygments_lexer": "ipython3",
   "version": "3.10.12"
  }
 },
 "nbformat": 4,
 "nbformat_minor": 5
}
