{
 "cells": [
  {
   "cell_type": "markdown",
   "id": "17ee4289-007b-456d-8228-2eadb81f098a",
   "metadata": {},
   "source": [
    "# Function Calling Rest API with local model using mistral-inference\n",
    "\n",
    "Function calling allows Mistral models to connect to external tools. By integrating Mistral models with external tools such as user defined functions or APIs, users can easily build applications catering to specific use cases and practical problems. In this guide, for instance, we wrote two functions for tracking a Pet Store's Pets and User info. We can use these two tools to provide answers for pet-related queries.\n",
    "\n",
    "At a glance, there are four steps with function calling:\n",
    "\n",
    "- User: specify tools and query\n",
    "- Model: Generate function arguments if applicable\n",
    "- User: Execute function to obtain tool results\n",
    "- Model: Generate final answer\n",
    "\n",
    "In this guide, we will walk through a simple example to demonstrate how function calling works with Mistral models in these four steps.\n",
    "\n",
    "Before we get started, let’s assume we have an OpenAPI spec end-points consisting of Pet store information. When users ask questions about this API, they can use certain tools to answer questions about this data. This is just an example to emulate an external database via API that the LLM cannot directly access."
   ]
  },
  {
   "cell_type": "code",
   "execution_count": null,
   "id": "d11772d0-93e7-4575-a04d-7949f2e2fddb",
   "metadata": {},
   "outputs": [],
   "source": [
    "!pip install mistral-inference"
   ]
  },
  {
   "cell_type": "markdown",
   "id": "fee921ff-ca06-4a16-a6d9-6f71a7987cea",
   "metadata": {},
   "source": [
    "Setup functions to make REST API call. We take example of pet store from [Swagger Editor](https://editor.swagger.io/)  \n",
    "We download the openapi.json specification."
   ]
  },
  {
   "cell_type": "markdown",
   "id": "7646c097-5ba4-4ccc-b098-8550c6d55e45",
   "metadata": {},
   "source": [
    "Example curl query to get information of a Pet by PetID\n",
    "\n",
    "`\n",
    "curl -X 'GET' \\\n",
    "  'https://petstore3.swagger.io/api/v3/pet/1' \\\n",
    "  -H 'accept: application/json'\n",
    "`\n",
    "\n",
    "Example curl query to get information of a User by username\n",
    "`\n",
    "curl -X 'GET' \\\n",
    "  'https://petstore3.swagger.io/api/v3/user/user1' \\\n",
    "  -H 'accept: application/json'\n",
    "`  "
   ]
  },
  {
   "cell_type": "markdown",
   "id": "3182bb4b-ea8e-4886-a3a5-291c9355d30e",
   "metadata": {},
   "source": [
    "# Function Calling for REST API\n",
    "\n",
    "## Step 1. User: specify tools and query\n",
    "\n",
    "### Tools\n",
    "\n",
    "Users can define all the necessary tools for their use cases.\n",
    "\n",
    "- In many cases, we might have multiple tools at our disposal. For example, let’s consider we have two functions as our two tools: `retrieve_pet_info` and `retreive_user_info` to retrieve pet and user info given `petID` and `username`."
   ]
  },
  {
   "cell_type": "code",
   "execution_count": 2,
   "id": "e8d7033a-28d6-440e-b6e3-dbb847625a7f",
   "metadata": {},
   "outputs": [],
   "source": [
    "import requests\n",
    "def getPetById(petId: int) -> str:\n",
    "    try:\n",
    "        method = 'GET'\n",
    "        headers=None\n",
    "        data=None\n",
    "        url =  'https://petstore3.swagger.io/api/v3/pet/' + str(petId)\n",
    "        response = requests.request(method, url, headers=headers, data=data)\n",
    "        # Raise an exception if the response was unsuccessful\n",
    "        response.raise_for_status()\n",
    "        #response = make_api_call('GET', url + str(petId))\n",
    "        if response.ok :\n",
    "            json_response = response.json()\n",
    "            if petId == json_response['id']:\n",
    "                return json_response\n",
    "        return json.dumps({'error': 'Pet id not found.'})\n",
    "    except requests.exceptions.HTTPError as e:\n",
    "        if response.status_code == 404:\n",
    "            return json.dumps({'error': 'Pet id not found.'})\n",
    "        else:\n",
    "            return json.dumps({'error': 'Error with API.'})\n",
    "\n",
    "def getUserByName(username: str) -> str:\n",
    "    try:\n",
    "        url = 'https://petstore3.swagger.io/api/v3/user/' + username\n",
    "        response = requests.get(url)\n",
    "        # Raise an exception if the response was unsuccessful\n",
    "        response.raise_for_status()\n",
    "        if response.ok :\n",
    "            json_response = response.json()\n",
    "            if username == json_response['username']:\n",
    "                return json_response\n",
    "        return json.dumps({'error': 'Username id not found.'})\n",
    "    except requests.exceptions.HTTPError as e:\n",
    "        if response.status_code == 404:\n",
    "            return json.dumps({'error': 'Username not found.'})\n",
    "        else:\n",
    "            return json.dumps({'error': 'Error with API.'})"
   ]
  },
  {
   "cell_type": "markdown",
   "id": "3986fc53-ae54-49d7-896c-d30254588bb1",
   "metadata": {},
   "source": [
    "- In order for Mistral models to understand the functions, we need to outline the function specifications with a JSON schema. Specifically, we need to describe the type, function name, function description, function parameters, and the required parameter for the function. Since we have two functions here, let’s list two function specifications in a list."
   ]
  },
  {
   "cell_type": "code",
   "execution_count": 3,
   "id": "3cf038c1-648c-44d8-b89a-df08a5e1187f",
   "metadata": {},
   "outputs": [],
   "source": [
    "from mistral_common.protocol.instruct.tool_calls import Function, Tool\n",
    "\n",
    "user_tools=[\n",
    "        Tool(\n",
    "            function=Function(\n",
    "                name=\"getPetById\",\n",
    "                description=\"Find pet by ID\",\n",
    "                parameters={\n",
    "                    \"type\": \"object\",\n",
    "                    \"properties\": {\n",
    "                        \"petId\": {\n",
    "                        \"type\": \"integer\",\n",
    "                        \"description\": \"The pet id.\",\n",
    "                        }\n",
    "                    },\n",
    "                    \"required\": [\"petId\"],\n",
    "                },\n",
    "            )\n",
    "        ),\n",
    "        Tool(\n",
    "            function=Function(\n",
    "                name=\"getUserByName\",\n",
    "                description=\"Get user by user name\",\n",
    "                parameters={\n",
    "                    \"type\": \"object\",\n",
    "                    \"properties\": {\n",
    "                        \"username\": {\n",
    "                        \"type\": \"string\",\n",
    "                        \"description\": \"The username.\",\n",
    "                        }\n",
    "                    },\n",
    "                    \"required\": [\"username\"],\n",
    "                },\n",
    "            )\n",
    "        )\n",
    "    ]\n",
    "\n"
   ]
  },
  {
   "cell_type": "markdown",
   "id": "8e0039fa-d43e-472c-8a1c-7bc12e6aaa0a",
   "metadata": {},
   "source": [
    "- Then we organize the two functions into a dictionary where keys represent the function name, and values are the function with the df defined. This allows us to call each function based on its function name."
   ]
  },
  {
   "cell_type": "code",
   "execution_count": 4,
   "id": "382a6359-e12a-4d61-96b5-bc47ee3247fc",
   "metadata": {},
   "outputs": [],
   "source": [
    "import functools\n",
    "\n",
    "names_to_functions = {\n",
    "  'getPetById': functools.partial(getPetById, petId=''),\n",
    "  'getUserByName': functools.partial(getUserByName, username='')  \n",
    "}"
   ]
  },
  {
   "cell_type": "markdown",
   "id": "5bfa3bbc-ce65-43a0-81ce-0c05836af961",
   "metadata": {},
   "source": [
    "### User query\n",
    "\n",
    "Suppose a user asks the following question: “What’s the status of my Pet 1?” A standalone LLM would not be able to answer this question, as it needs to query the business logic backend to access the necessary data. But what if we have an exact tool we can use to answer this question? We could potentially provide an answer!"
   ]
  },
  {
   "cell_type": "code",
   "execution_count": 5,
   "id": "789c983a-148e-4ff3-aee7-68a76af6d2a0",
   "metadata": {},
   "outputs": [],
   "source": [
    "from mistral_common.protocol.instruct.messages import UserMessage\n",
    "\n",
    "user_messages=[UserMessage(content=\"What's the status of my Pet 3?\")\n",
    "        ]"
   ]
  },
  {
   "cell_type": "markdown",
   "id": "439124dd-ea61-4bba-894d-3d9214af7d0c",
   "metadata": {},
   "source": [
    "## Step 2. Model: Generate function arguments \n",
    "\n",
    "How do Mistral models know about these functions and know which function to use? We provide both the user query and the tools specifications to Mistral models. The goal in this step is not for the Mistral model to run the function directly. It’s to 1) determine the appropriate function to use , 2) identify if there is any essential information missing for a function, and 3) generate necessary arguments for the chosen function."
   ]
  },
  {
   "cell_type": "code",
   "execution_count": 6,
   "id": "4a205e11-f156-41c8-acb5-cba334b68f1d",
   "metadata": {},
   "outputs": [],
   "source": [
    "from mistral_inference.model import Transformer\n",
    "from mistral_inference.generate import generate\n",
    "\n",
    "from mistral_common.tokens.tokenizers.mistral import MistralTokenizer\n",
    "\n",
    "from mistral_common.protocol.instruct.request import ChatCompletionRequest"
   ]
  },
  {
   "cell_type": "markdown",
   "id": "450403af-e9fe-4414-b9b7-12865fe5579d",
   "metadata": {},
   "source": [
    "- We specify the location to load the mistral model and tokenizer.  These models are downloaded from [mistral-inference](https://github.com/mistralai/mistral-inference) repo. We have downloaded the mistral 7BInstructv3 model"
   ]
  },
  {
   "cell_type": "code",
   "execution_count": 7,
   "id": "444e1838-d620-4a05-a68a-554f28cf5f65",
   "metadata": {},
   "outputs": [],
   "source": [
    "tokenizer = MistralTokenizer.from_file(\"./mistral_models/7B_instruct/tokenizer.model.v3\")  # change to extracted tok>\n",
    "model = Transformer.from_folder(\"./mistral_models/7B_instruct\")  # change to extracted model dir"
   ]
  },
  {
   "cell_type": "code",
   "execution_count": 8,
   "id": "5f4979b6-aff5-432f-a2a2-679db5b8eca5",
   "metadata": {},
   "outputs": [],
   "source": [
    "completion_request = ChatCompletionRequest(tools=user_tools, messages=user_messages,)"
   ]
  },
  {
   "cell_type": "code",
   "execution_count": 9,
   "id": "d6d5c1f1-0433-48cc-884e-120df75493b0",
   "metadata": {},
   "outputs": [],
   "source": [
    "tokens = tokenizer.encode_chat_completion(completion_request).tokens\n"
   ]
  },
  {
   "cell_type": "markdown",
   "id": "6cf881d2-89e9-442d-a48a-aa4800b7b179",
   "metadata": {},
   "source": [
    "max_tokens control the output of model as tokens, set it based on required function call."
   ]
  },
  {
   "cell_type": "code",
   "execution_count": 10,
   "id": "5fdf68b2-a3dd-40a9-83a6-975662493901",
   "metadata": {},
   "outputs": [],
   "source": [
    "out_tokens, _ = generate([tokens], model, max_tokens=50, temperature=0.0, eos_id=tokenizer.instruct_tokenizer.tokenizer.eos_id)"
   ]
  },
  {
   "cell_type": "code",
   "execution_count": 11,
   "id": "0e4ef6c0-f6ea-4c09-8181-efb2c82f5e05",
   "metadata": {},
   "outputs": [
    {
     "data": {
      "text/plain": [
       "'[{\"name\": \"getPetById\", \"arguments\": {\"petId\": 3}}]\\n\\nThis code will fetch the details of Pet 3 using the `getPetById` function. However, I\\'m just a text'"
      ]
     },
     "execution_count": 11,
     "metadata": {},
     "output_type": "execute_result"
    }
   ],
   "source": [
    "result = tokenizer.instruct_tokenizer.tokenizer.decode(out_tokens[0])\n",
    "#remove any blank space from token output\n",
    "\n",
    "result"
   ]
  },
  {
   "cell_type": "code",
   "execution_count": 12,
   "id": "716a13f1-4ae3-4744-a373-8005aa4f7c72",
   "metadata": {},
   "outputs": [
    {
     "data": {
      "text/plain": [
       "['[{\"name\": \"getPetById\", \"arguments\": {\"petId\": 3}}]',\n",
       " \"This code will fetch the details of Pet 3 using the `getPetById` function. However, I'm just a text\"]"
      ]
     },
     "execution_count": 12,
     "metadata": {},
     "output_type": "execute_result"
    }
   ],
   "source": [
    "result = result.split(\"\\n\\n\")\n",
    "result"
   ]
  },
  {
   "cell_type": "markdown",
   "id": "a3e72294-eb42-4818-9d67-c897b26ec0ab",
   "metadata": {},
   "source": [
    "## Step 3. User: Execute function to obtain tool results\n",
    "\n",
    "How do we execute the function? Currently, it is the user’s responsibility to execute these functions and the function execution lies on the user side. In the future, we may introduce some helpful functions that can be executed server-side.\n",
    "\n",
    "Let’s extract some useful function information from model response including function_name and function_params. It’s clear here that our Mistral model has chosen to use the function `retrieve_payment_status` with the parameter `transaction_id` set to T1001."
   ]
  },
  {
   "cell_type": "code",
   "execution_count": 13,
   "id": "2e804ace-ab26-4a6c-b3ea-96ab330dc748",
   "metadata": {},
   "outputs": [
    {
     "name": "stdout",
     "output_type": "stream",
     "text": [
      "\n",
      "function_name:  getPetById \n",
      "function_params:  {'petId': 3}\n"
     ]
    }
   ],
   "source": [
    "import json\n",
    "tool_call = json.loads(result[0])\n",
    "function_name = tool_call[0][\"name\"]\n",
    "function_params = (tool_call[0][\"arguments\"]) \n",
    "print(\"\\nfunction_name: \", function_name, \"\\nfunction_params: \", function_params)"
   ]
  },
  {
   "cell_type": "code",
   "execution_count": 14,
   "id": "51f5b003-5a40-4ad6-9b99-bf161063f479",
   "metadata": {},
   "outputs": [
    {
     "data": {
      "text/plain": [
       "{'id': 3,\n",
       " 'category': {'id': 2, 'name': 'Cats'},\n",
       " 'name': 'cat',\n",
       " 'photoUrls': ['url1', 'url2'],\n",
       " 'tags': [{'id': 1, 'name': 'tag3'}, {'id': 2, 'name': 'tag4'}],\n",
       " 'status': '201'}"
      ]
     },
     "execution_count": 14,
     "metadata": {},
     "output_type": "execute_result"
    }
   ],
   "source": [
    "function_result = names_to_functions[function_name](**function_params)\n",
    "function_result"
   ]
  },
  {
   "cell_type": "code",
   "execution_count": null,
   "id": "51f5c53a-e0e2-4e86-93eb-440561240e0e",
   "metadata": {},
   "outputs": [],
   "source": []
  },
  {
   "cell_type": "markdown",
   "id": "4c11279d-fea3-412e-a0a6-799169306673",
   "metadata": {},
   "source": [
    "## Optional - Tool Generator -\n",
    "parse open api spec for dynamic tool definition creation. Download openai.json from https://editor.swagger.io/"
   ]
  },
  {
   "cell_type": "code",
   "execution_count": null,
   "id": "939c1c54-5e3d-4fc3-aa97-a3102638581e",
   "metadata": {},
   "outputs": [],
   "source": [
    "!pip install --upgrade  prance openapi-spec-validator"
   ]
  },
  {
   "cell_type": "code",
   "execution_count": 16,
   "id": "194cc13b-1bcd-4bdd-894f-6756b7cc52e1",
   "metadata": {},
   "outputs": [],
   "source": [
    "import prance\n",
    "def load_openapi_spec(file_path):\n",
    "    parser = prance.ResolvingParser(file_path, backend='openapi-spec-validator')\n",
    "    spec = parser.specification\n",
    "    return spec"
   ]
  },
  {
   "cell_type": "code",
   "execution_count": 17,
   "id": "6a71dbbd-d5ce-42d3-9376-5979d8f58d9b",
   "metadata": {},
   "outputs": [],
   "source": [
    "from typing import List\n",
    "\n",
    "def generate_tools(objs)-> List[Tool]:\n",
    "    params = ['operationId', 'description',  'parameters']\n",
    "    user_tools = []\n",
    "    for obj in objs:\n",
    "        resource, field = obj\n",
    "        path = '/' + resource + '/{' + field + '}'\n",
    "        function_name=spec['paths'][path]['get'][params[0]]\n",
    "        function_description=spec['paths'][path]['get'][params[1]]\n",
    "        function_parameters=spec['paths'][path]['get'][params[2]]\n",
    "        func_parameters = {\n",
    "        \"type\": \"object\",\n",
    "        \"properties\": {\n",
    "            function_parameters[0]['name']: {\n",
    "                \"type\": function_parameters[0]['schema']['type'],\n",
    "                \"description\": function_parameters[0]['description']\n",
    "            }\n",
    "        },\n",
    "        \"required\": [function_parameters[0]['name']]\n",
    "    }\n",
    "        user_function= Function(name = function_name, description = function_description, parameters = func_parameters, )\n",
    "        user_tool = Tool(function = user_function)\n",
    "        user_tools.append(user_tool)\n",
    "    return user_tools\n",
    "    "
   ]
  },
  {
   "cell_type": "code",
   "execution_count": 18,
   "id": "b2324150-3252-4243-bfbd-1ec9837fc5ad",
   "metadata": {},
   "outputs": [],
   "source": [
    "def get_user_messages(queries: List[str]) -> List[UserMessage]:\n",
    "    user_messages=[]\n",
    "    for query in queries:\n",
    "        user_message = UserMessage(content=query)\n",
    "        user_messages.append(user_message)\n",
    "    return user_messages\n",
    "    "
   ]
  },
  {
   "cell_type": "code",
   "execution_count": 19,
   "id": "a195eee2-3ea1-4be7-828e-5b098850e09a",
   "metadata": {},
   "outputs": [],
   "source": [
    "spec = load_openapi_spec('openapi.json')"
   ]
  },
  {
   "cell_type": "code",
   "execution_count": 20,
   "id": "6ca5cd1f-7869-4d39-bcb3-2fe4a07f9220",
   "metadata": {},
   "outputs": [],
   "source": [
    "queries = [\"What's the status of my Pet 1?\", \"Find information of user user1?\" ,  \"What's the status of my Store Order 3?\"]\n",
    "return_objs = [['pet','petId'], ['user', 'username'], ['store/order','orderId']]\n",
    "\n",
    "user_messages=get_user_messages(queries)\n",
    "user_tools = generate_tools(return_objs)"
   ]
  },
  {
   "cell_type": "markdown",
   "id": "15ebc1b4",
   "metadata": {},
   "source": [
    "set max_tokens based on no. of tool functions defined. Approx. 50 token X no. of tool functions"
   ]
  },
  {
   "cell_type": "code",
   "execution_count": 21,
   "id": "4a99c576-2026-46d9-a293-c138c7d2d036",
   "metadata": {},
   "outputs": [],
   "source": [
    "completion_request = ChatCompletionRequest(tools=user_tools, messages=user_messages,)\n",
    "tokens = tokenizer.encode_chat_completion(completion_request).tokens\n",
    "out_tokens, _ = generate([tokens], model, max_tokens=150, temperature=0.0, eos_id=tokenizer.instruct_tokenizer.tokenizer.eos_id)"
   ]
  },
  {
   "cell_type": "code",
   "execution_count": 22,
   "id": "9371f692-adb3-43a3-8a3e-8865b929c8c9",
   "metadata": {},
   "outputs": [
    {
     "data": {
      "text/plain": [
       "'[{\"name\": \"getPetById\", \"arguments\": {\"petId\": 1}}, {\"name\": \"getUserByName\", \"arguments\": {\"username\": \"user1\"}}, {\"name\": \"getOrderById\", \"arguments\": {\"orderId\": 3}}]'"
      ]
     },
     "execution_count": 22,
     "metadata": {},
     "output_type": "execute_result"
    }
   ],
   "source": [
    "result = tokenizer.instruct_tokenizer.tokenizer.decode(out_tokens[0])\n",
    "result = result.split(\"\\n\\n\")\n",
    "result"
   ]
  },
  {
   "cell_type": "code",
   "execution_count": 25,
   "id": "b4a40b97-6fc1-4a98-bce1-f74040c3d989",
   "metadata": {},
   "outputs": [
    {
     "data": {
      "text/plain": [
       "[{'name': 'getPetById', 'arguments': {'petId': 1}},\n",
       " {'name': 'getUserByName', 'arguments': {'username': 'user1'}},\n",
       " {'name': 'getOrderById', 'arguments': {'orderId': 3}}]"
      ]
     },
     "execution_count": 25,
     "metadata": {},
     "output_type": "execute_result"
    }
   ],
   "source": [
    "tool_calls = json.loads(result[0])\n",
    "tool_calls"
   ]
  },
  {
   "cell_type": "code",
   "execution_count": 26,
   "id": "8a6f9d52-a1db-48f7-8bf0-727ec169b369",
   "metadata": {},
   "outputs": [],
   "source": [
    "def process_results(tool_calls, messages):\n",
    "    index = 0 \n",
    "    for tool_call in tool_calls:\n",
    "        function_name = tool_call[\"name\"]\n",
    "        function_params = (tool_call[\"arguments\"]) \n",
    "        print(messages[index].content)\n",
    "        function_result = names_to_functions[function_name](**function_params)\n",
    "        print(function_result)\n",
    "        index = index + 1\n",
    "    "
   ]
  },
  {
   "cell_type": "code",
   "execution_count": 27,
   "id": "5a3f7265-c3b1-471f-abe3-7bd3520d7244",
   "metadata": {},
   "outputs": [
    {
     "name": "stdout",
     "output_type": "stream",
     "text": [
      "What's the status of my Pet 1?\n",
      "{'id': 1, 'category': {'id': 1, 'name': 'Dog'}, 'name': 'Max', 'photoUrls': ['https://example.com/max.jpg'], 'tags': [{'id': 1, 'name': 'friendly'}, {'id': 2, 'name': 'playful'}], 'status': 'available'}\n",
      "Find information of user user1?\n",
      "{'id': 1, 'username': 'user1', 'firstName': 'first name 1', 'lastName': 'last name 1', 'email': 'email1@test.com', 'password': 'XXXXXXXXXXX', 'phone': '123-456-7890', 'userStatus': 1}\n",
      "What's the status of my Store Order 3?\n"
     ]
    },
    {
     "ename": "KeyError",
     "evalue": "'getOrderById'",
     "output_type": "error",
     "traceback": [
      "\u001b[0;31m---------------------------------------------------------------------------\u001b[0m",
      "\u001b[0;31mKeyError\u001b[0m                                  Traceback (most recent call last)",
      "Cell \u001b[0;32mIn[27], line 1\u001b[0m\n\u001b[0;32m----> 1\u001b[0m \u001b[43mprocess_results\u001b[49m\u001b[43m(\u001b[49m\u001b[43mtool_calls\u001b[49m\u001b[43m,\u001b[49m\u001b[43m \u001b[49m\u001b[43muser_messages\u001b[49m\u001b[43m)\u001b[49m\n",
      "Cell \u001b[0;32mIn[26], line 7\u001b[0m, in \u001b[0;36mprocess_results\u001b[0;34m(tool_calls, messages)\u001b[0m\n\u001b[1;32m      5\u001b[0m function_params \u001b[38;5;241m=\u001b[39m (tool_call[\u001b[38;5;124m\"\u001b[39m\u001b[38;5;124marguments\u001b[39m\u001b[38;5;124m\"\u001b[39m]) \n\u001b[1;32m      6\u001b[0m \u001b[38;5;28mprint\u001b[39m(messages[index]\u001b[38;5;241m.\u001b[39mcontent)\n\u001b[0;32m----> 7\u001b[0m function_result \u001b[38;5;241m=\u001b[39m \u001b[43mnames_to_functions\u001b[49m\u001b[43m[\u001b[49m\u001b[43mfunction_name\u001b[49m\u001b[43m]\u001b[49m(\u001b[38;5;241m*\u001b[39m\u001b[38;5;241m*\u001b[39mfunction_params)\n\u001b[1;32m      8\u001b[0m \u001b[38;5;28mprint\u001b[39m(function_result)\n\u001b[1;32m      9\u001b[0m index \u001b[38;5;241m=\u001b[39m index \u001b[38;5;241m+\u001b[39m \u001b[38;5;241m1\u001b[39m\n",
      "\u001b[0;31mKeyError\u001b[0m: 'getOrderById'"
     ]
    }
   ],
   "source": [
    "process_results(tool_calls, user_messages)"
   ]
  },
  {
   "cell_type": "markdown",
   "id": "b2cbd30c-d66c-4211-b01d-1b1f2b629dbc",
   "metadata": {},
   "source": [
    "#3 getOrderById function is not defined"
   ]
  }
 ],
 "metadata": {
  "kernelspec": {
   "display_name": "Python 3 (ipykernel)",
   "language": "python",
   "name": "python3"
  },
  "language_info": {
   "codemirror_mode": {
    "name": "ipython",
    "version": 3
   },
   "file_extension": ".py",
   "mimetype": "text/x-python",
   "name": "python",
   "nbconvert_exporter": "python",
   "pygments_lexer": "ipython3",
   "version": "3.10.12"
  }
 },
 "nbformat": 4,
 "nbformat_minor": 5
}
