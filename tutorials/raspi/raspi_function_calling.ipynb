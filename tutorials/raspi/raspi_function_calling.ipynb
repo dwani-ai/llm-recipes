{
 "cells": [
  {
   "cell_type": "code",
   "execution_count": null,
   "id": "82cd37f9-4f4d-4c63-808b-75163de39b61",
   "metadata": {},
   "outputs": [],
   "source": [
    "!pip install --upgrade ollama mistral-common "
   ]
  },
  {
   "cell_type": "code",
   "execution_count": null,
   "id": "20ace013-e5d9-4618-b589-91baf8cec79a",
   "metadata": {},
   "outputs": [],
   "source": []
  },
  {
   "cell_type": "code",
   "execution_count": null,
   "id": "61ab9bd9-df37-42bd-a093-8e97aa468f65",
   "metadata": {},
   "outputs": [],
   "source": [
    "import requests\n",
    "def getPetById(petId: int) -> str:\n",
    "    try:\n",
    "        method = 'GET'\n",
    "        headers=None\n",
    "        data=None\n",
    "        url =  'https://petstore3.swagger.io/api/v3/pet/' + str(petId)\n",
    "        response = requests.request(method, url, headers=headers, data=data)\n",
    "        # Raise an exception if the response was unsuccessful\n",
    "        response.raise_for_status()\n",
    "        #response = make_api_call('GET', url + str(petId))\n",
    "        if response.ok :\n",
    "            json_response = response.json()\n",
    "            if petId == json_response['id']:\n",
    "                return json_response\n",
    "        return json.dumps({'error': 'Pet id not found.'})\n",
    "    except requests.exceptions.HTTPError as e:\n",
    "        if response.status_code == 404:\n",
    "            return json.dumps({'error': 'Pet id not found.'})\n",
    "        else:\n",
    "            return json.dumps({'error': 'Error with API.'})\n",
    "\n",
    "def getUserByName(username: str) -> str:\n",
    "    try:\n",
    "        url = 'https://petstore3.swagger.io/api/v3/user/' + username\n",
    "        response = requests.get(url)\n",
    "        # Raise an exception if the response was unsuccessful\n",
    "        response.raise_for_status()\n",
    "        if response.ok :\n",
    "            json_response = response.json()\n",
    "            if username == json_response['username']:\n",
    "                return json_response\n",
    "        return json.dumps({'error': 'Username id not found.'})\n",
    "    except requests.exceptions.HTTPError as e:\n",
    "        if response.status_code == 404:\n",
    "            return json.dumps({'error': 'Username not found.'})\n",
    "        else:\n",
    "            return json.dumps({'error': 'Error with API.'})"
   ]
  },
  {
   "cell_type": "code",
   "execution_count": null,
   "id": "7452e773-4350-4d25-8178-c41696978d8c",
   "metadata": {},
   "outputs": [],
   "source": [
    "from mistral_common.protocol.instruct.tool_calls import Function, Tool\n",
    "\n",
    "user_tools=[\n",
    "        Tool(\n",
    "            function=Function(\n",
    "                name=\"getPetById\",\n",
    "                description=\"Find pet by ID\",\n",
    "                parameters={\n",
    "                    \"type\": \"object\",\n",
    "                    \"properties\": {\n",
    "                        \"petId\": {\n",
    "                        \"type\": \"integer\",\n",
    "                        \"description\": \"The pet id.\",\n",
    "                        }\n",
    "                    },\n",
    "                    \"required\": [\"petId\"],\n",
    "                },\n",
    "            )\n",
    "        ),\n",
    "        Tool(\n",
    "            function=Function(\n",
    "                name=\"getUserByName\",\n",
    "                description=\"Get user by user name\",\n",
    "                parameters={\n",
    "                    \"type\": \"object\",\n",
    "                    \"properties\": {\n",
    "                        \"username\": {\n",
    "                        \"type\": \"string\",\n",
    "                        \"description\": \"The username.\",\n",
    "                        }\n",
    "                    },\n",
    "                    \"required\": [\"username\"],\n",
    "                },\n",
    "            )\n",
    "        )\n",
    "    ]\n",
    "\n"
   ]
  },
  {
   "cell_type": "code",
   "execution_count": null,
   "id": "883d356c-bb4a-4b47-a817-1aad29c1c995",
   "metadata": {},
   "outputs": [],
   "source": [
    "import functools\n",
    "\n",
    "names_to_functions = {\n",
    "  'getPetById': functools.partial(getPetById, petId=''),\n",
    "  'getUserByName': functools.partial(getUserByName, username='')  \n",
    "}"
   ]
  },
  {
   "cell_type": "code",
   "execution_count": null,
   "id": "7f69d892-c2d9-4166-82e3-7ecc677e18a5",
   "metadata": {},
   "outputs": [],
   "source": [
    "from mistral_common.protocol.instruct.messages import UserMessage\n",
    "\n",
    "user_messages=[UserMessage(content=\"What's the status of my Pet 3?\")\n",
    "        ]"
   ]
  },
  {
   "cell_type": "code",
   "execution_count": null,
   "id": "f0ae5e03-956b-4a77-bff3-171c43ec77d2",
   "metadata": {},
   "outputs": [],
   "source": []
  },
  {
   "cell_type": "code",
   "execution_count": null,
   "id": "d6f585c6-7f72-4617-925b-930beafbaa71",
   "metadata": {},
   "outputs": [],
   "source": [
    "from mistral_common.tokens.tokenizers.mistral import MistralTokenizer\n",
    "\n",
    "from mistral_common.protocol.instruct.request import ChatCompletionRequest\n",
    "tokenizer = MistralTokenizer.v3()\n",
    "\n",
    "completion_request = ChatCompletionRequest(tools=user_tools, messages=user_messages,)\n",
    "tokenized = tokenizer.encode_chat_completion(completion_request)\n",
    "tokens, text = tokenized.tokens, tokenized.text\n",
    "text"
   ]
  },
  {
   "cell_type": "code",
   "execution_count": null,
   "id": "6f2ccfc3-3b32-40cb-9bb7-604664eca37d",
   "metadata": {},
   "outputs": [],
   "source": [
    "result = ollama.generate(model='mistral:7b', prompt=text, raw=True,stream=False)\n",
    "print(result['response'])"
   ]
  },
  {
   "cell_type": "code",
   "execution_count": null,
   "id": "513c6fb4-cd6d-4314-a066-221f4c2a8737",
   "metadata": {},
   "outputs": [],
   "source": []
  },
  {
   "cell_type": "code",
   "execution_count": null,
   "id": "e83fa8d2-39d3-4d2b-9083-7780421034ec",
   "metadata": {},
   "outputs": [],
   "source": [
    "import json\n",
    "\n",
    "tool_call = result['response'].split(\"\\n\\n\")\n",
    "function_call = tool_call[0].replace(\"[TOOL_CALLS] \",\"\")\n",
    "function_c = json.loads(function_call)\n",
    "function_name = function_c[0][\"name\"]\n",
    "function_params = (function_c[0][\"arguments\"]) \n",
    "print(\"\\nfunction_name: \", function_name, \"\\nfunction_params: \", function_params)"
   ]
  },
  {
   "cell_type": "code",
   "execution_count": null,
   "id": "d0d65adb-63c1-40d3-9ffe-d4a64c92bf32",
   "metadata": {},
   "outputs": [],
   "source": [
    "function_result = names_to_functions[function_name](**function_params)\n",
    "function_result"
   ]
  },
  {
   "cell_type": "code",
   "execution_count": null,
   "id": "7d993621-e16c-4ed6-ae47-6260ae6d3fc5",
   "metadata": {},
   "outputs": [],
   "source": []
  },
  {
   "cell_type": "code",
   "execution_count": null,
   "id": "38d64866-595d-4ea3-9313-5bcca5ba36a4",
   "metadata": {},
   "outputs": [],
   "source": [
    "!pip install --upgrade  prance openapi-spec-validator"
   ]
  },
  {
   "cell_type": "code",
   "execution_count": null,
   "id": "568ff9ab-66b9-4b8f-9f44-de51f70e0034",
   "metadata": {},
   "outputs": [],
   "source": [
    "import prance\n",
    "def load_openapi_spec(file_path):\n",
    "    parser = prance.ResolvingParser(file_path, backend='openapi-spec-validator')\n",
    "    spec = parser.specification\n",
    "    return spec"
   ]
  },
  {
   "cell_type": "code",
   "execution_count": null,
   "id": "95daf8ce-a803-4586-83ee-211cbc92c6a6",
   "metadata": {},
   "outputs": [],
   "source": [
    "from typing import List\n",
    "\n",
    "def generate_tools(objs)-> List[Tool]:\n",
    "    params = ['operationId', 'description',  'parameters']\n",
    "    user_tools = []\n",
    "    for obj in objs:\n",
    "        resource, field = obj\n",
    "        path = '/' + resource + '/{' + field + '}'\n",
    "        function_name=spec['paths'][path]['get'][params[0]]\n",
    "        function_description=spec['paths'][path]['get'][params[1]]\n",
    "        function_parameters=spec['paths'][path]['get'][params[2]]\n",
    "        func_parameters = {\n",
    "        \"type\": \"object\",\n",
    "        \"properties\": {\n",
    "            function_parameters[0]['name']: {\n",
    "                \"type\": function_parameters[0]['schema']['type'],\n",
    "                \"description\": function_parameters[0]['description']\n",
    "            }\n",
    "        },\n",
    "        \"required\": [function_parameters[0]['name']]\n",
    "    }\n",
    "        user_function= Function(name = function_name, description = function_description, parameters = func_parameters, )\n",
    "        user_tool = Tool(function = user_function)\n",
    "        user_tools.append(user_tool)\n",
    "    return user_tools\n",
    "    "
   ]
  },
  {
   "cell_type": "code",
   "execution_count": null,
   "id": "df39b614-0432-47a7-9f7d-5daabbebbbcd",
   "metadata": {},
   "outputs": [],
   "source": [
    "def get_user_messages(queries: List[str]) -> List[UserMessage]:\n",
    "    user_messages=[]\n",
    "    for query in queries:\n",
    "        user_message = UserMessage(content=query)\n",
    "        user_messages.append(user_message)\n",
    "    return user_messages\n",
    "    "
   ]
  },
  {
   "cell_type": "code",
   "execution_count": null,
   "id": "cdcbd23c-01bf-45b5-8283-4e849559d3f3",
   "metadata": {},
   "outputs": [],
   "source": [
    "spec = load_openapi_spec('openapi.json')"
   ]
  },
  {
   "cell_type": "code",
   "execution_count": null,
   "id": "ce3ea0b0-91b8-4977-abe8-e9b142d05741",
   "metadata": {},
   "outputs": [],
   "source": [
    "queries = [\"What's the status of my Pet 1?\", \"Find information of user user1?\" ,  \"What's the status of my Store Order 3?\"]\n",
    "return_objs = [['pet','petId'], ['user', 'username'], ['store/order','orderId']]\n",
    "\n",
    "user_messages=get_user_messages(queries)\n",
    "user_tools = generate_tools(return_objs)"
   ]
  },
  {
   "cell_type": "code",
   "execution_count": null,
   "id": "6456ec55-64d3-4c8c-9e4f-8a76f997e538",
   "metadata": {},
   "outputs": [],
   "source": [
    "completion_request = ChatCompletionRequest(tools=user_tools, messages=user_messages,)"
   ]
  },
  {
   "cell_type": "code",
   "execution_count": null,
   "id": "fc0701e8-79a9-44aa-aa97-a9af1ee9e56b",
   "metadata": {},
   "outputs": [],
   "source": [
    "tokenized = tokenizer.encode_chat_completion(completion_request)\n",
    "tokens, text = tokenized.tokens, tokenized.text\n",
    "text"
   ]
  },
  {
   "cell_type": "code",
   "execution_count": null,
   "id": "95ee2f7a-336d-47dd-8318-f6c7b484afb6",
   "metadata": {},
   "outputs": [],
   "source": [
    "result = ollama.generate(model='mistral:7b', prompt=text, raw=True,stream=False)\n",
    "print(result['response'])"
   ]
  },
  {
   "cell_type": "code",
   "execution_count": null,
   "id": "b8d044a8-5646-458a-a516-7530db19ed48",
   "metadata": {},
   "outputs": [],
   "source": [
    "def process_results(tool_calls, messages):\n",
    "    index = 0 \n",
    "    for tool_call in tool_calls:\n",
    "        function_name = tool_call[\"name\"]\n",
    "        function_params = (tool_call[\"arguments\"]) \n",
    "        print(messages[index].content)\n",
    "        function_result = names_to_functions[function_name](**function_params)\n",
    "        print(function_result)\n",
    "        index = index + 1"
   ]
  },
  {
   "cell_type": "code",
   "execution_count": null,
   "id": "5f2c8c93-5b9c-45bf-9fba-7fa212bdeca7",
   "metadata": {},
   "outputs": [],
   "source": [
    "import json\n",
    "\n",
    "tool_calls = result['response'].split(\"\\n\\n\")\n",
    "function_call = tool_call[0].replace(\"[TOOL_CALLS] \",\"\")\n",
    "function_c = json.loads(function_call)\n",
    "function_name = function_c[0][\"name\"]\n",
    "function_params = (function_c[0][\"arguments\"]) \n",
    "print(\"\\nfunction_name: \", function_name, \"\\nfunction_params: \", function_params)\n",
    "\n",
    "#tool_calls = json.loads(result[0])\n",
    "tool_calls"
   ]
  },
  {
   "cell_type": "code",
   "execution_count": null,
   "id": "24a175e7-184d-4bcb-a5d0-1fc74b98f5a6",
   "metadata": {},
   "outputs": [],
   "source": [
    "process_results(tool_calls, user_messages)"
   ]
  },
  {
   "cell_type": "code",
   "execution_count": null,
   "id": "1ff8c5ad-ce83-42a5-849b-d4fa054ae8a7",
   "metadata": {},
   "outputs": [],
   "source": []
  }
 ],
 "metadata": {
  "kernelspec": {
   "display_name": "Python 3 (ipykernel)",
   "language": "python",
   "name": "python3"
  },
  "language_info": {
   "codemirror_mode": {
    "name": "ipython",
    "version": 3
   },
   "file_extension": ".py",
   "mimetype": "text/x-python",
   "name": "python",
   "nbconvert_exporter": "python",
   "pygments_lexer": "ipython3",
   "version": "3.10.12"
  }
 },
 "nbformat": 4,
 "nbformat_minor": 5
}
