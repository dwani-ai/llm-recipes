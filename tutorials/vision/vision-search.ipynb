{
 "cells": [
  {
   "cell_type": "code",
   "execution_count": null,
   "id": "fa840bad-b3a5-427c-bcb2-e9b619ac5210",
   "metadata": {},
   "outputs": [],
   "source": [
    "!pip install ollama pillow"
   ]
  },
  {
   "cell_type": "markdown",
   "id": "d549d1e4-8054-4cc3-b84c-65d52d48bfbb",
   "metadata": {},
   "source": [
    "### Prequisites\n",
    "1.  Ollama Container.\n",
    "\n",
    "    In a separate terminal, run the docker compose file. \n",
    "\n",
    "    `docker compose -f vision-compose.yml up -d`\n",
    "\n",
    "2. Moondream vision model.\n",
    "\n",
    "   execute the load_model function with moondream model using ollama url\n",
    "\n",
    "<!--\n",
    "    Once the docker container is running, download the moondream model via curl\n",
    "\n",
    "\n",
    "   `curl http://localhost:11434/api/pull -d '{ \"name\": \"moondream:latest\" }'`\n",
    "\n",
    "    Verify if model is downloaded with command\n",
    "\n",
    "   `curl http://localhost:11434/api/tags`\n",
    "-->\n",
    " "
   ]
  },
  {
   "cell_type": "code",
   "execution_count": null,
   "id": "07f69c54-4842-41b3-87d6-876ef6084b9e",
   "metadata": {},
   "outputs": [],
   "source": [
    "import requests\n",
    "\n",
    "def load_model(ollama_url, model_name):\n",
    "\n",
    "    command = \"/api/pull\"\n",
    "    #url = \"http://localhost:11434/api/pull\"\n",
    "    url = ollama_url + command\n",
    "    #payload = {\"name\": \"moondream:latest\"}\n",
    "    model = model_name + \":latest\"\n",
    "    payload = {\"name\": model}\n",
    "    \n",
    "    headers = {\n",
    "        \"Content-Type\": \"application/json\"\n",
    "    }\n",
    "    \n",
    "    response = requests.post(url, json=payload, headers=headers)\n",
    "    \n",
    "    if response.status_code == 200:\n",
    "        print(\"Request successful!\")\n",
    "        print(response.text)\n",
    "    else:\n",
    "        print(f\"Request failed with status code: {response.status_code}\")\n",
    "        print(response.text)\n",
    "\n",
    "    "
   ]
  },
  {
   "cell_type": "code",
   "execution_count": null,
   "id": "38938905-54bb-45a0-a518-10db55f5f188",
   "metadata": {},
   "outputs": [],
   "source": [
    "ollama_url = \"http://localhost:11434\"\n",
    "model_name = \"moondream\"\n",
    "load_model( ollama_url, model_name )"
   ]
  },
  {
   "cell_type": "code",
   "execution_count": null,
   "id": "0661c02a-d7a6-4322-b39e-92fe3ea9387f",
   "metadata": {},
   "outputs": [],
   "source": [
    "import base64\n",
    "from PIL import Image\n",
    "from io import BytesIO\n",
    "import ollama\n"
   ]
  },
  {
   "cell_type": "code",
   "execution_count": null,
   "id": "069c4fed-66b2-4703-9442-93247c54e852",
   "metadata": {},
   "outputs": [],
   "source": [
    "image = Image.open(\"../../docs/speech-inference.png\")\n",
    "\n",
    "buffered = BytesIO()\n",
    "image.save(buffered, format=\"PNG\")\n",
    "img_str = base64.b64encode(buffered.getvalue()).decode(\"utf-8\")\n",
    "\n",
    "base64_image = f\"data:image/jpeg;base64,{img_str}\"\n",
    "\n",
    "byeps = \"data:image/png;base64,\" + img_str"
   ]
  },
  {
   "cell_type": "code",
   "execution_count": null,
   "id": "0577d763-7734-41ee-ac75-52a7834754ec",
   "metadata": {},
   "outputs": [],
   "source": [
    "response = ollama.chat(\n",
    "    model=\"llava\",\n",
    "    messages=[\n",
    "        {\n",
    "            \"role\": \"user\",\n",
    "            \"content\": \"What is in this image?\",\n",
    "            \"images\": byeps\n",
    "        }\n",
    "    ]\n",
    ")"
   ]
  },
  {
   "cell_type": "code",
   "execution_count": null,
   "id": "db68443a-0707-4ca3-b899-a8da5e53fc15",
   "metadata": {},
   "outputs": [],
   "source": []
  }
 ],
 "metadata": {
  "kernelspec": {
   "display_name": "Python 3 (ipykernel)",
   "language": "python",
   "name": "python3"
  },
  "language_info": {
   "codemirror_mode": {
    "name": "ipython",
    "version": 3
   },
   "file_extension": ".py",
   "mimetype": "text/x-python",
   "name": "python",
   "nbconvert_exporter": "python",
   "pygments_lexer": "ipython3",
   "version": "3.10.12"
  }
 },
 "nbformat": 4,
 "nbformat_minor": 5
}
