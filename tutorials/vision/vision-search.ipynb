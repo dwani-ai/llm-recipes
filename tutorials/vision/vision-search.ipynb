{
 "cells": [
  {
   "cell_type": "code",
   "execution_count": null,
   "id": "fa840bad-b3a5-427c-bcb2-e9b619ac5210",
   "metadata": {},
   "outputs": [],
   "source": [
    "!pip install ollama pillow"
   ]
  },
  {
   "cell_type": "code",
   "execution_count": null,
   "id": "0661c02a-d7a6-4322-b39e-92fe3ea9387f",
   "metadata": {},
   "outputs": [],
   "source": [
    "import base64\n",
    "from PIL import Image\n",
    "from io import BytesIO\n",
    "import ollama\n"
   ]
  },
  {
   "cell_type": "code",
   "execution_count": null,
   "id": "069c4fed-66b2-4703-9442-93247c54e852",
   "metadata": {},
   "outputs": [],
   "source": [
    "image = Image.open(\"../../docs/speech-inference.png\")\n",
    "\n",
    "buffered = BytesIO()\n",
    "image.save(buffered, format=\"PNG\")\n",
    "img_str = base64.b64encode(buffered.getvalue()).decode(\"utf-8\")\n",
    "\n",
    "base64_image = f\"data:image/jpeg;base64,{img_str}\"\n",
    "\n",
    "byeps = \"data:image/png;base64,\" + img_str"
   ]
  },
  {
   "cell_type": "code",
   "execution_count": null,
   "id": "0577d763-7734-41ee-ac75-52a7834754ec",
   "metadata": {},
   "outputs": [],
   "source": [
    "response = ollama.chat(\n",
    "    model=\"llava\",\n",
    "    messages=[\n",
    "        {\n",
    "            \"role\": \"user\",\n",
    "            \"content\": \"What is in this image?\",\n",
    "            \"images\": byeps\n",
    "        }\n",
    "    ]\n",
    ")"
   ]
  },
  {
   "cell_type": "code",
   "execution_count": null,
   "id": "db68443a-0707-4ca3-b899-a8da5e53fc15",
   "metadata": {},
   "outputs": [],
   "source": []
  }
 ],
 "metadata": {
  "kernelspec": {
   "display_name": "Python 3 (ipykernel)",
   "language": "python",
   "name": "python3"
  },
  "language_info": {
   "codemirror_mode": {
    "name": "ipython",
    "version": 3
   },
   "file_extension": ".py",
   "mimetype": "text/x-python",
   "name": "python",
   "nbconvert_exporter": "python",
   "pygments_lexer": "ipython3",
   "version": "3.10.12"
  }
 },
 "nbformat": 4,
 "nbformat_minor": 5
}
