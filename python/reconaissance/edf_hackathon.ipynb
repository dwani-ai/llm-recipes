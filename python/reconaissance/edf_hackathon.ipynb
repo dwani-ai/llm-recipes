{
 "cells": [
  {
   "cell_type": "markdown",
   "id": "4ec26438-f9b8-405f-9b98-5f6ea6fceb63",
   "metadata": {
    "editable": true,
    "slideshow": {
     "slide_type": "slide"
    },
    "tags": []
   },
   "source": [
    "## Drishti - Reconaissance"
   ]
  },
  {
   "cell_type": "code",
   "execution_count": null,
   "id": "8e1e2655-d72e-4e83-aa8b-f4ad725fc29f",
   "metadata": {
    "editable": true,
    "slideshow": {
     "slide_type": "skip"
    },
    "tags": []
   },
   "outputs": [],
   "source": []
  },
  {
   "cell_type": "markdown",
   "id": "f0d7ca76-4279-49a1-84e4-c2bd9f4ac75b",
   "metadata": {
    "editable": true,
    "slideshow": {
     "slide_type": "slide"
    },
    "tags": []
   },
   "source": [
    "#### Problem\n",
    "\n",
    "Real time battlefield information "
   ]
  },
  {
   "cell_type": "code",
   "execution_count": null,
   "id": "b144d7ae-19a4-4888-aaf5-376c4c46a2b8",
   "metadata": {
    "editable": true,
    "slideshow": {
     "slide_type": "skip"
    },
    "tags": []
   },
   "outputs": [],
   "source": []
  },
  {
   "cell_type": "markdown",
   "id": "adf9f73e-57ee-4e84-af2a-c1a628df3042",
   "metadata": {
    "editable": true,
    "slideshow": {
     "slide_type": "slide"
    },
    "tags": []
   },
   "source": [
    "#### Inspiration\n",
    "\n",
    "Age of Empires - Knight which moves fast across the map and shows the state of other kingdoms"
   ]
  },
  {
   "cell_type": "code",
   "execution_count": null,
   "id": "0acaa014-0ac6-4e0c-841f-94a12878b69e",
   "metadata": {
    "editable": true,
    "slideshow": {
     "slide_type": "skip"
    },
    "tags": []
   },
   "outputs": [],
   "source": []
  },
  {
   "cell_type": "markdown",
   "id": "b6039fcb-f045-4695-9eea-7e2d9fdae568",
   "metadata": {
    "editable": true,
    "slideshow": {
     "slide_type": "slide"
    },
    "tags": []
   },
   "source": [
    "### Solution\n",
    "\n",
    "A Swarm of Autonomous Drones capture images over a predefined path. Images are sent back in real time and processed in a central server"
   ]
  },
  {
   "cell_type": "code",
   "execution_count": null,
   "id": "b394ead1-878f-40c4-b54c-6b1fc9613778",
   "metadata": {
    "editable": true,
    "slideshow": {
     "slide_type": "skip"
    },
    "tags": []
   },
   "outputs": [],
   "source": []
  },
  {
   "cell_type": "markdown",
   "id": "cd7bf601-a4d6-45bd-9bd5-88a20ec3d9c1",
   "metadata": {
    "editable": true,
    "slideshow": {
     "slide_type": "slide"
    },
    "tags": []
   },
   "source": [
    "### Technology\n",
    "\n",
    "#### Hardware - DJI Tello EDU \n",
    "\n",
    "- 5 MP Camera\n",
    "- Wi-Fi connectivity\n",
    "\n",
    "\n",
    "### Software - Open source , Open Weights Model \n",
    "\n",
    "- Language - Python \n",
    "\n",
    "- Moondream Vision Language Model\n",
    "\n",
    "- Mistral 7B Large Language Model"
   ]
  },
  {
   "cell_type": "code",
   "execution_count": null,
   "id": "36498942-73e5-48ad-a823-490c800eb25b",
   "metadata": {
    "editable": true,
    "slideshow": {
     "slide_type": "skip"
    },
    "tags": []
   },
   "outputs": [],
   "source": []
  },
  {
   "cell_type": "markdown",
   "id": "286563bf-3f0c-445e-8e7b-34f71d9a1a5c",
   "metadata": {
    "editable": true,
    "slideshow": {
     "slide_type": "slide"
    },
    "tags": []
   },
   "source": [
    "### Timeline \n",
    "\n",
    "Day 0 \n",
    "\n",
    "![Day 0 ](slides/day_0.png \"Day 0\")\n"
   ]
  },
  {
   "cell_type": "markdown",
   "id": "a6465b5c-be16-4e07-b522-d378bda8120c",
   "metadata": {
    "editable": true,
    "slideshow": {
     "slide_type": "subslide"
    },
    "tags": []
   },
   "source": [
    "Day 1 \n",
    "\n",
    "![Day 1](slides/day_1.png \"Day 1\")\n"
   ]
  },
  {
   "cell_type": "markdown",
   "id": "efda258f-d164-4f89-971f-882ef07644e5",
   "metadata": {
    "editable": true,
    "slideshow": {
     "slide_type": "subslide"
    },
    "tags": []
   },
   "source": [
    "\n",
    "Day 2\n",
    "\n",
    "![Day 2](slides/day_2.png \"Day 2\")\n"
   ]
  },
  {
   "cell_type": "code",
   "execution_count": null,
   "id": "daf5759a-9357-4c02-94be-1199f35d7558",
   "metadata": {
    "editable": true,
    "slideshow": {
     "slide_type": ""
    },
    "tags": []
   },
   "outputs": [],
   "source": []
  },
  {
   "cell_type": "markdown",
   "id": "8a0e42f3-ce99-4e72-9a67-1312b05885bb",
   "metadata": {
    "editable": true,
    "slideshow": {
     "slide_type": ""
    },
    "tags": []
   },
   "source": [
    "### Demo\n",
    "\n",
    "\n",
    "Code Base - [https://github.com/slabstech/llm-recipes/tree/sensor-fusion/python/reconaissance](https://github.com/slabstech/llm-recipes/tree/sensor-fusion/python/reconaissance)\n"
   ]
  },
  {
   "cell_type": "code",
   "execution_count": null,
   "id": "67370b1f-7448-4305-a4c4-0ef956ac4bca",
   "metadata": {
    "editable": true,
    "slideshow": {
     "slide_type": ""
    },
    "tags": []
   },
   "outputs": [],
   "source": [
    "Data Capture From Dron "
   ]
  },
  {
   "cell_type": "markdown",
   "id": "cca0ccac-cda2-42c9-b436-cfffff6c9c57",
   "metadata": {
    "editable": true,
    "slideshow": {
     "slide_type": "slide"
    },
    "tags": []
   },
   "source": [
    "· Problem\n",
    "\n",
    "· Solution\n",
    "\n",
    "· Market (Who’s the customer, Acquisition Strategy)\n",
    "\n",
    "· Validation (Pictures with Customer)\n",
    "\n",
    "· Demo\n",
    "\n",
    "· Business Model\n",
    "\n",
    "· Future Rollout\n",
    "\n",
    "· Team"
   ]
  },
  {
   "cell_type": "code",
   "execution_count": null,
   "id": "5eabd25b-27c2-4527-9cc6-d2c18b895679",
   "metadata": {},
   "outputs": [],
   "source": []
  }
 ],
 "metadata": {
  "kernelspec": {
   "display_name": "Python 3 (ipykernel)",
   "language": "python",
   "name": "python3"
  },
  "language_info": {
   "codemirror_mode": {
    "name": "ipython",
    "version": 3
   },
   "file_extension": ".py",
   "mimetype": "text/x-python",
   "name": "python",
   "nbconvert_exporter": "python",
   "pygments_lexer": "ipython3",
   "version": "3.10.12"
  }
 },
 "nbformat": 4,
 "nbformat_minor": 5
}
