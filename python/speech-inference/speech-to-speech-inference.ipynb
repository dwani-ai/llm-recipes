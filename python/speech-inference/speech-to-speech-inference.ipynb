{
 "cells": [
  {
   "cell_type": "code",
   "execution_count": null,
   "id": "e771127a-7a09-43b5-8509-ca403d413e3d",
   "metadata": {},
   "outputs": [],
   "source": []
  },
  {
   "cell_type": "markdown",
   "id": "c4bb76b8-0fbe-4db7-91ad-482e188a9629",
   "metadata": {},
   "source": [
    "Capture the speech input, use a microphone with headset"
   ]
  },
  {
   "cell_type": "code",
   "execution_count": null,
   "id": "41858b5d-4042-4c37-903f-498b6108ed6e",
   "metadata": {},
   "outputs": [],
   "source": [
    "from voice_input import voice_capture\n",
    "\n",
    "voice_input_file_name = \"voice_input.wav\"\n",
    "voice_capture(voice_input_file_name)"
   ]
  },
  {
   "cell_type": "markdown",
   "id": "3af54c1b-ec2d-4536-abde-37ef02c56c7b",
   "metadata": {},
   "source": [
    "Convert the speech to text - Whisper library used"
   ]
  },
  {
   "cell_type": "code",
   "execution_count": null,
   "id": "6115f5ca-339b-4a77-b100-10e878e301bf",
   "metadata": {},
   "outputs": [],
   "source": [
    "from voice_query import voice_query\n",
    "voice_response = voice_query(voice_input_file_name)\n",
    "print(\"speech recognition output- \" + voice_response)"
   ]
  },
  {
   "cell_type": "markdown",
   "id": "ea307f66-6309-49ad-bd2d-250982eb6305",
   "metadata": {},
   "source": [
    "LLM query using Mistral model with ollama"
   ]
  },
  {
   "cell_type": "code",
   "execution_count": null,
   "id": "ca007e4f-23fc-4feb-9524-e7d28852eb45",
   "metadata": {},
   "outputs": [],
   "source": [
    "from api_interface import execute_generator\n",
    "\n",
    "queries = []\n",
    "queries.append(voice_response)\n",
    "return_objs = [['pet','petId'], ['user', 'username'], ['store/order','orderId']]\n",
    "\n",
    "query_result = execute_generator(queries, return_objs)\n"
   ]
  },
  {
   "cell_type": "markdown",
   "id": "6e66046b-3c69-4e17-bfcb-02d11380fb9c",
   "metadata": {},
   "source": [
    "create voice output using Text to Speech"
   ]
  },
  {
   "cell_type": "code",
   "execution_count": null,
   "id": "9b875f7a-a627-474e-acf8-e7f333855a43",
   "metadata": {},
   "outputs": [],
   "source": [
    "from voice_output import text_to_speech, voice_clone\n",
    "\n",
    "voice_output_file_name=text_to_speech(query_text=query_result)\n",
    "print(voice_output_file_name)"
   ]
  },
  {
   "cell_type": "code",
   "execution_count": null,
   "id": "b8f053ee-4f80-46ec-b12c-283e79a3094f",
   "metadata": {},
   "outputs": [],
   "source": []
  }
 ],
 "metadata": {
  "kernelspec": {
   "display_name": "Python 3 (ipykernel)",
   "language": "python",
   "name": "python3"
  },
  "language_info": {
   "codemirror_mode": {
    "name": "ipython",
    "version": 3
   },
   "file_extension": ".py",
   "mimetype": "text/x-python",
   "name": "python",
   "nbconvert_exporter": "python",
   "pygments_lexer": "ipython3",
   "version": "3.10.12"
  }
 },
 "nbformat": 4,
 "nbformat_minor": 5
}
