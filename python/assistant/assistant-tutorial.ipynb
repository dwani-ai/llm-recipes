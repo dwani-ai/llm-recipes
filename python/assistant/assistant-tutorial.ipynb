{
 "cells": [
  {
   "cell_type": "markdown",
   "id": "3bf5ee46-c467-440d-9c45-1feec0345d0d",
   "metadata": {},
   "source": [
    "## Assistant\n",
    "\n",
    "Multi-modal search using Mistral, whisper and moondream"
   ]
  },
  {
   "cell_type": "code",
   "execution_count": 1,
   "id": "d9e8c2d6-588b-4403-8788-6a9576094f80",
   "metadata": {},
   "outputs": [],
   "source": [
    "from model_setup import load_model"
   ]
  },
  {
   "cell_type": "code",
   "execution_count": null,
   "id": "9c3be2c0-081a-4438-a4fb-b09b6a5a6bc7",
   "metadata": {},
   "outputs": [],
   "source": [
    "ollama_url = \"http://localhost:11434\"\n",
    "model_name = \"moondream\"\n",
    "load_model( ollama_url, model_name )"
   ]
  },
  {
   "cell_type": "code",
   "execution_count": null,
   "id": "6e60d61d-5ad8-41f2-a922-eb7d11b349b5",
   "metadata": {},
   "outputs": [],
   "source": [
    "from vision_query import explain_image\n",
    "\n",
    "model = \"moondream\"\n",
    "prompt = \"What is in this image?\"\n",
    "url = \"http://localhost:11434\"\n",
    "explain_image(\"../../docs/speech-inference.png\", model, prompt, url)    "
   ]
  }
 ],
 "metadata": {
  "kernelspec": {
   "display_name": "Python 3 (ipykernel)",
   "language": "python",
   "name": "python3"
  },
  "language_info": {
   "codemirror_mode": {
    "name": "ipython",
    "version": 3
   },
   "file_extension": ".py",
   "mimetype": "text/x-python",
   "name": "python",
   "nbconvert_exporter": "python",
   "pygments_lexer": "ipython3",
   "version": "3.10.12"
  }
 },
 "nbformat": 4,
 "nbformat_minor": 5
}
